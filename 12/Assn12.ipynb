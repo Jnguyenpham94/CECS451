{
 "cells": [
  {
   "cell_type": "code",
   "execution_count": 45,
   "metadata": {},
   "outputs": [
    {
     "name": "stdout",
     "output_type": "stream",
     "text": [
      "(b) features:\n",
      "['mean radius' 'mean texture' 'mean perimeter' 'mean area'\n",
      " 'mean smoothness' 'mean compactness' 'mean concavity'\n",
      " 'mean concave points' 'mean symmetry' 'mean fractal dimension'\n",
      " 'radius error' 'texture error' 'perimeter error' 'area error'\n",
      " 'smoothness error' 'compactness error' 'concavity error'\n",
      " 'concave points error' 'symmetry error' 'fractal dimension error'\n",
      " 'worst radius' 'worst texture' 'worst perimeter' 'worst area'\n",
      " 'worst smoothness' 'worst compactness' 'worst concavity'\n",
      " 'worst concave points' 'worst symmetry' 'worst fractal dimension']\n",
      "\n",
      "name of target:\n",
      "['malignant' 'benign']\n",
      "[[1.116e+01 2.141e+01 7.095e+01 ... 4.306e-02 2.976e-01 7.123e-02]\n",
      " [1.754e+01 1.932e+01 1.151e+02 ... 1.939e-01 2.928e-01 7.867e-02]\n",
      " [1.364e+01 1.634e+01 8.721e+01 ... 8.586e-02 2.346e-01 8.025e-02]\n",
      " ...\n",
      " [1.458e+01 2.153e+01 9.741e+01 ... 2.701e-01 4.264e-01 1.275e-01]\n",
      " [1.793e+01 2.448e+01 1.152e+02 ... 1.136e-01 2.504e-01 7.948e-02]\n",
      " [1.051e+01 2.019e+01 6.864e+01 ... 6.136e-02 2.383e-01 9.026e-02]] [[1.927e+01 2.647e+01 1.279e+02 ... 1.785e-01 3.672e-01 1.123e-01]\n",
      " [1.496e+01 1.910e+01 9.703e+01 ... 1.489e-01 2.962e-01 8.472e-02]\n",
      " [1.106e+01 1.483e+01 7.031e+01 ... 5.556e-02 2.590e-01 9.158e-02]\n",
      " ...\n",
      " [1.714e+01 1.640e+01 1.160e+02 ... 2.550e-01 4.066e-01 1.059e-01]\n",
      " [1.317e+01 1.822e+01 8.428e+01 ... 1.045e-01 2.235e-01 6.925e-02]\n",
      " [1.256e+01 1.907e+01 8.192e+01 ... 9.265e-02 2.121e-01 7.188e-02]]\n",
      "[1 0 1 1 0 1 1 1 0 1 0 1 1 0 0 1 1 0 0 1 0 0 0 0 1 1 0 1 1 1 0 1 0 0 0 0 1\n",
      " 1 1 0 1 0 1 0 0 1 1 0 0 0 1 1 1 0 1 0 0 1 0 1 1 0 1 1 1 0 1 1 0 1 0 0 1 1\n",
      " 1 1 0 1 1 1 1 0 1 1 0 0 1 1 0 0 0 1 1 1 0 0 0 0 1 1 0 1 1 1 0 1 1 0 1 0 0\n",
      " 1 1 1 0 0 1 1 1 1 1 1 1 1 1 1 0 1 1 0 0 1 1 1 0 1 1 0 1 0 1 0 1 1 1 1 1 1\n",
      " 1 1 0 1 1 0 1 1 0 0 0 0 1 0 1 1 1 1 0 0 1 0 1 0 0 1 1 1 1 1 0 1 0 1 0 1 1\n",
      " 1 0 0 1 0 0 1 1 1 1 1 0 1 1 1 0 1 0 1 1 1 1 1 1 1 0 1 1 1 0 0 0 1 0 1 1 0\n",
      " 0 1 1 1 1 1 1 1 1 1 0 1 1 1 1 0 1 0 0 0 0 1 1 0 1 0 0 1 1 1 1 0 0 0 1 1 1\n",
      " 0 0 1 0 1 0 0 1 1 0 1 1 0 0 1 0 0 0 1 0 0 1 1 0 0 1 0 1 0 0 1 0 1 0 0 1 1\n",
      " 1 1 1 0 0 0 1 1 0 1 1 1 1 1 0 1 1 0 0 0 1 1 0 1 1 0 1 1 1 1 1 1 0 1 1 0 1\n",
      " 0 1 1 0 1 1 1 1 0 1 1 1 1 1 0 1 0 1 0 0 0 1 1 0 1 0 0 1 0 1 1 1 1 0 0 1 1\n",
      " 1 1 1 0 1 1 1 1 1 0 1 1 1 0 1 0 1 0 1 1 1 0 0 1 0 1 0 0 0 0 1 0 1 1 1 0 0\n",
      " 1 1 1 0 1 1 0 1 0 1 1 1 1 1 0 1 0 0 1] [0 1 1 0 1 1 0 1 0 0 1 0 1 0 1 0 0 0 0 1 0 1 1 1 0 1 1 1 0 0 1 1 1 1 1 1 0\n",
      " 1 1 1 0 0 1 1 1 1 1 1 1 0 1 0 0 1 1 1 0 1 1 1 1 1 1 0 1 1 1 1 1 0 0 1 0 1\n",
      " 1 1 0 1 0 0 1 0 0 1 1 1 0 1 0 1 1 1 1 0 0 1 1 1 1 1 1 1 0 1 1 1 1 1 1 0 0\n",
      " 1 0 1 1 1 1 1 1 0 1 1 1 1 1 1 1 1 1 1 0 1 0 1 1 1 1 1 0 1 0 1 1]\n"
     ]
    }
   ],
   "source": [
    "import sklearn\n",
    "\n",
    "cancer_data = sklearn.datasets.load_breast_cancer()\n",
    "\n",
    "# print features and target (b)\n",
    "print(\"(b) features:\")\n",
    "print(cancer_data.feature_names)\n",
    "print(\"\\nname of target:\")\n",
    "print(cancer_data.target_names)\n",
    "\n",
    "x = cancer_data.data\n",
    "y = cancer_data.target\n",
    "X_train, X_test, y_train, y_test = sklearn.model_selection.train_test_split(x, y)\n",
    "print(X_train, X_test)\n",
    "print(y_train, y_test)\n"
   ]
  }
 ],
 "metadata": {
  "interpreter": {
   "hash": "63fd5069d213b44bf678585dea6b12cceca9941eaf7f819626cde1f2670de90d"
  },
  "kernelspec": {
   "display_name": "Python 3.9.4 64-bit",
   "language": "python",
   "name": "python3"
  },
  "language_info": {
   "codemirror_mode": {
    "name": "ipython",
    "version": 3
   },
   "file_extension": ".py",
   "mimetype": "text/x-python",
   "name": "python",
   "nbconvert_exporter": "python",
   "pygments_lexer": "ipython3",
   "version": "3.9.4"
  },
  "orig_nbformat": 4
 },
 "nbformat": 4,
 "nbformat_minor": 2
}
