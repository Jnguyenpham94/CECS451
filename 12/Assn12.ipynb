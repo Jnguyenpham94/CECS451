{
 "cells": [
  {
   "cell_type": "code",
   "execution_count": 6,
   "metadata": {},
   "outputs": [
    {
     "name": "stdout",
     "output_type": "stream",
     "text": [
      "(b) features:\n",
      "['mean radius' 'mean texture' 'mean perimeter' 'mean area'\n",
      " 'mean smoothness' 'mean compactness' 'mean concavity'\n",
      " 'mean concave points' 'mean symmetry' 'mean fractal dimension'\n",
      " 'radius error' 'texture error' 'perimeter error' 'area error'\n",
      " 'smoothness error' 'compactness error' 'concavity error'\n",
      " 'concave points error' 'symmetry error' 'fractal dimension error'\n",
      " 'worst radius' 'worst texture' 'worst perimeter' 'worst area'\n",
      " 'worst smoothness' 'worst compactness' 'worst concavity'\n",
      " 'worst concave points' 'worst symmetry' 'worst fractal dimension']\n",
      "\n",
      "name of target:\n",
      "['malignant' 'benign']\n"
     ]
    }
   ],
   "source": [
    "import sklearn\n",
    "from sklearn.datasets import load_breast_cancer\n",
    "from sklearn.model_selection import train_test_split\n",
    "from sklearn import tree\n",
    "\n",
    "cancer_data = load_breast_cancer()\n",
    "\n",
    "# print features and target (b)\n",
    "print(\"(b) features:\")\n",
    "print(cancer_data.feature_names)\n",
    "print(\"\\nname of target:\")\n",
    "print(cancer_data.target_names)\n",
    "\n",
    "# allocate data and split (c)\n",
    "x = cancer_data.data\n",
    "y = cancer_data.target\n",
    "X_train, X_test, y_train, y_test = train_test_split(x, y, random_state=10)\n",
    "# print(X_train, X_test)\n",
    "# print(y_train, y_test)\n"
   ]
  },
  {
   "cell_type": "code",
   "execution_count": 7,
   "metadata": {},
   "outputs": [
    {
     "name": "stdout",
     "output_type": "stream",
     "text": [
      "              precision    recall  f1-score   support\n",
      "\n",
      "           0       0.95      1.00      0.97        52\n",
      "           1       1.00      0.97      0.98        91\n",
      "\n",
      "    accuracy                           0.98       143\n",
      "   macro avg       0.97      0.98      0.98       143\n",
      "weighted avg       0.98      0.98      0.98       143\n",
      "\n"
     ]
    }
   ],
   "source": [
    "# decision tree(g)\n",
    "from sklearn.metrics import classification_report\n",
    "from sklearn.svm import SVC\n",
    "from sklearn.preprocessing import StandardScaler\n",
    "\n",
    "scaler = StandardScaler().fit(X_train)\n",
    "x_train = scaler.transform(X_train)\n",
    "x_test = scaler.transform(X_test)\n",
    "svc_model = SVC()\n",
    "svc_model.fit(x_train, y_train)\n",
    "clf = tree.DecisionTreeClassifier()\n",
    "clf = clf.fit(X_train, y_train)\n",
    "y_predict = svc_model.predict(x_test)\n",
    "\n",
    "# accuracy\n",
    "print(classification_report(y_test, y_predict))"
   ]
  },
  {
   "cell_type": "code",
   "execution_count": 8,
   "metadata": {},
   "outputs": [
    {
     "data": {
      "text/plain": [
       "[Text(0.7721774193548387, 0.9375, 'worst perimeter <= 115.35\\ngini = 0.469\\nsamples = 426\\nvalue = [160, 266]'),\n",
       " Text(0.6088709677419355, 0.8125, 'worst concave points <= 0.156\\ngini = 0.183\\nsamples = 294\\nvalue = [30, 264]'),\n",
       " Text(0.4435483870967742, 0.6875, 'area error <= 35.435\\ngini = 0.102\\nsamples = 277\\nvalue = [15, 262]'),\n",
       " Text(0.27419354838709675, 0.5625, 'worst concave points <= 0.132\\ngini = 0.054\\nsamples = 254\\nvalue = [7, 247]'),\n",
       " Text(0.12903225806451613, 0.4375, 'smoothness error <= 0.003\\ngini = 0.017\\nsamples = 233\\nvalue = [2, 231]'),\n",
       " Text(0.06451612903225806, 0.3125, 'mean texture <= 19.875\\ngini = 0.278\\nsamples = 6\\nvalue = [1, 5]'),\n",
       " Text(0.03225806451612903, 0.1875, 'gini = 0.0\\nsamples = 5\\nvalue = [0, 5]'),\n",
       " Text(0.0967741935483871, 0.1875, 'gini = 0.0\\nsamples = 1\\nvalue = [1, 0]'),\n",
       " Text(0.1935483870967742, 0.3125, 'worst texture <= 33.27\\ngini = 0.009\\nsamples = 227\\nvalue = [1, 226]'),\n",
       " Text(0.16129032258064516, 0.1875, 'gini = 0.0\\nsamples = 215\\nvalue = [0, 215]'),\n",
       " Text(0.22580645161290322, 0.1875, 'worst area <= 624.65\\ngini = 0.153\\nsamples = 12\\nvalue = [1, 11]'),\n",
       " Text(0.1935483870967742, 0.0625, 'gini = 0.0\\nsamples = 11\\nvalue = [0, 11]'),\n",
       " Text(0.25806451612903225, 0.0625, 'gini = 0.0\\nsamples = 1\\nvalue = [1, 0]'),\n",
       " Text(0.41935483870967744, 0.4375, 'mean texture <= 20.94\\ngini = 0.363\\nsamples = 21\\nvalue = [5, 16]'),\n",
       " Text(0.3870967741935484, 0.3125, 'symmetry error <= 0.012\\ngini = 0.111\\nsamples = 17\\nvalue = [1, 16]'),\n",
       " Text(0.3548387096774194, 0.1875, 'mean texture <= 13.535\\ngini = 0.5\\nsamples = 2\\nvalue = [1, 1]'),\n",
       " Text(0.3225806451612903, 0.0625, 'gini = 0.0\\nsamples = 1\\nvalue = [0, 1]'),\n",
       " Text(0.3870967741935484, 0.0625, 'gini = 0.0\\nsamples = 1\\nvalue = [1, 0]'),\n",
       " Text(0.41935483870967744, 0.1875, 'gini = 0.0\\nsamples = 15\\nvalue = [0, 15]'),\n",
       " Text(0.45161290322580644, 0.3125, 'gini = 0.0\\nsamples = 4\\nvalue = [4, 0]'),\n",
       " Text(0.6129032258064516, 0.5625, 'mean area <= 694.15\\ngini = 0.454\\nsamples = 23\\nvalue = [8, 15]'),\n",
       " Text(0.5806451612903226, 0.4375, 'worst concavity <= 0.291\\ngini = 0.332\\nsamples = 19\\nvalue = [4, 15]'),\n",
       " Text(0.5161290322580645, 0.3125, 'compactness error <= 0.012\\ngini = 0.124\\nsamples = 15\\nvalue = [1, 14]'),\n",
       " Text(0.4838709677419355, 0.1875, 'gini = 0.0\\nsamples = 1\\nvalue = [1, 0]'),\n",
       " Text(0.5483870967741935, 0.1875, 'gini = 0.0\\nsamples = 14\\nvalue = [0, 14]'),\n",
       " Text(0.6451612903225806, 0.3125, 'mean concavity <= 0.14\\ngini = 0.375\\nsamples = 4\\nvalue = [3, 1]'),\n",
       " Text(0.6129032258064516, 0.1875, 'gini = 0.0\\nsamples = 3\\nvalue = [3, 0]'),\n",
       " Text(0.6774193548387096, 0.1875, 'gini = 0.0\\nsamples = 1\\nvalue = [0, 1]'),\n",
       " Text(0.6451612903225806, 0.4375, 'gini = 0.0\\nsamples = 4\\nvalue = [4, 0]'),\n",
       " Text(0.7741935483870968, 0.6875, 'worst texture <= 23.47\\ngini = 0.208\\nsamples = 17\\nvalue = [15, 2]'),\n",
       " Text(0.7419354838709677, 0.5625, 'mean smoothness <= 0.124\\ngini = 0.444\\nsamples = 3\\nvalue = [1, 2]'),\n",
       " Text(0.7096774193548387, 0.4375, 'gini = 0.0\\nsamples = 2\\nvalue = [0, 2]'),\n",
       " Text(0.7741935483870968, 0.4375, 'gini = 0.0\\nsamples = 1\\nvalue = [1, 0]'),\n",
       " Text(0.8064516129032258, 0.5625, 'gini = 0.0\\nsamples = 14\\nvalue = [14, 0]'),\n",
       " Text(0.9354838709677419, 0.8125, 'worst perimeter <= 117.45\\ngini = 0.03\\nsamples = 132\\nvalue = [130, 2]'),\n",
       " Text(0.9032258064516129, 0.6875, 'mean perimeter <= 102.15\\ngini = 0.444\\nsamples = 6\\nvalue = [4, 2]'),\n",
       " Text(0.8709677419354839, 0.5625, 'gini = 0.0\\nsamples = 4\\nvalue = [4, 0]'),\n",
       " Text(0.9354838709677419, 0.5625, 'gini = 0.0\\nsamples = 2\\nvalue = [0, 2]'),\n",
       " Text(0.967741935483871, 0.6875, 'gini = 0.0\\nsamples = 126\\nvalue = [126, 0]')]"
      ]
     },
     "execution_count": 8,
     "metadata": {},
     "output_type": "execute_result"
    },
    {
     "data": {
      "image/png": "[encoded data removed]",
      "text/plain": [
       "<Figure size 432x288 with 1 Axes>"
      ]
     },
     "metadata": {
      "needs_background": "light"
     },
     "output_type": "display_data"
    }
   ],
   "source": [
    "# decision tree (h)\n",
    "tree.plot_tree(clf, feature_names=cancer_data.feature_names)"
   ]
  },
  {
   "cell_type": "code",
   "execution_count": 20,
   "metadata": {},
   "outputs": [
    {
     "data": {
      "text/plain": [
       "0.9440559440559441"
      ]
     },
     "execution_count": 20,
     "metadata": {},
     "output_type": "execute_result"
    }
   ],
   "source": [
    "# i\n",
    "from sklearn.ensemble import BaggingClassifier\n",
    "\n",
    "bag = BaggingClassifier(n_estimators=10)\n",
    "bag.fit(X_train, y_train)\n",
    "bag.score(X_test, y_test)"
   ]
  }
 ],
 "metadata": {
  "interpreter": {
   "hash": "63fd5069d213b44bf678585dea6b12cceca9941eaf7f819626cde1f2670de90d"
  },
  "kernelspec": {
   "display_name": "Python 3.9.4 64-bit",
   "language": "python",
   "name": "python3"
  },
  "language_info": {
   "codemirror_mode": {
    "name": "ipython",
    "version": 3
   },
   "file_extension": ".py",
   "mimetype": "text/x-python",
   "name": "python",
   "nbconvert_exporter": "python",
   "pygments_lexer": "ipython3",
   "version": "3.9.4"
  },
  "orig_nbformat": 4
 },
 "nbformat": 4,
 "nbformat_minor": 2
}
