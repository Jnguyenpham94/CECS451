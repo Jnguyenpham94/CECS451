{
 "cells": [
  {
   "cell_type": "code",
   "execution_count": 96,
   "metadata": {},
   "outputs": [
    {
     "name": "stdout",
     "output_type": "stream",
     "text": [
      "(b) features:\n",
      "['mean radius' 'mean texture' 'mean perimeter' 'mean area'\n",
      " 'mean smoothness' 'mean compactness' 'mean concavity'\n",
      " 'mean concave points' 'mean symmetry' 'mean fractal dimension'\n",
      " 'radius error' 'texture error' 'perimeter error' 'area error'\n",
      " 'smoothness error' 'compactness error' 'concavity error'\n",
      " 'concave points error' 'symmetry error' 'fractal dimension error'\n",
      " 'worst radius' 'worst texture' 'worst perimeter' 'worst area'\n",
      " 'worst smoothness' 'worst compactness' 'worst concavity'\n",
      " 'worst concave points' 'worst symmetry' 'worst fractal dimension']\n",
      "\n",
      "name of target:\n",
      "['malignant' 'benign']\n"
     ]
    }
   ],
   "source": [
    "import sklearn\n",
    "from sklearn.datasets import load_breast_cancer\n",
    "from sklearn.model_selection import train_test_split\n",
    "from sklearn import tree\n",
    "\n",
    "cancer_data = load_breast_cancer()\n",
    "\n",
    "# print features and target (b)\n",
    "print(\"(b) features:\")\n",
    "print(cancer_data.feature_names)\n",
    "print(\"\\nname of target:\")\n",
    "print(cancer_data.target_names)\n",
    "\n",
    "# allocate data and split (c)\n",
    "x = cancer_data.data\n",
    "y = cancer_data.target\n",
    "X_train, X_test, y_train, y_test = train_test_split(x, y, random_state=10)\n",
    "# print(X_train, X_test)\n",
    "# print(y_train, y_test)\n"
   ]
  },
  {
   "cell_type": "code",
   "execution_count": 97,
   "metadata": {},
   "outputs": [
    {
     "name": "stdout",
     "output_type": "stream",
     "text": [
      "              precision    recall  f1-score   support\n",
      "\n",
      "           0       0.95      1.00      0.97        52\n",
      "           1       1.00      0.97      0.98        91\n",
      "\n",
      "    accuracy                           0.98       143\n",
      "   macro avg       0.97      0.98      0.98       143\n",
      "weighted avg       0.98      0.98      0.98       143\n",
      "\n"
     ]
    }
   ],
   "source": [
    "# decision tree(g)\n",
    "from sklearn.metrics import classification_report\n",
    "from sklearn.svm import SVC\n",
    "from sklearn.preprocessing import StandardScaler\n",
    "\n",
    "scaler = StandardScaler().fit(X_train)\n",
    "x_train = scaler.transform(X_train)\n",
    "x_test = scaler.transform(X_test)\n",
    "svc_model = SVC()\n",
    "svc_model.fit(x_train, y_train)\n",
    "clf = tree.DecisionTreeClassifier(criterion=\"gini\", max_depth=2)\n",
    "clf = clf.fit(X_train, y_train)\n",
    "y_predict = svc_model.predict(x_test)\n",
    "\n",
    "# accuracy\n",
    "print(classification_report(y_test, y_predict))"
   ]
  },
  {
   "cell_type": "code",
   "execution_count": 98,
   "metadata": {},
   "outputs": [
    {
     "data": {
      "text/plain": [
       "[Text(0.5, 0.8333333333333334, 'worst perimeter <= 115.35\\ngini = 0.469\\nsamples = 426\\nvalue = [160, 266]'),\n",
       " Text(0.25, 0.5, 'worst concave points <= 0.156\\ngini = 0.183\\nsamples = 294\\nvalue = [30, 264]'),\n",
       " Text(0.125, 0.16666666666666666, 'gini = 0.102\\nsamples = 277\\nvalue = [15, 262]'),\n",
       " Text(0.375, 0.16666666666666666, 'gini = 0.208\\nsamples = 17\\nvalue = [15, 2]'),\n",
       " Text(0.75, 0.5, 'worst perimeter <= 117.45\\ngini = 0.03\\nsamples = 132\\nvalue = [130, 2]'),\n",
       " Text(0.625, 0.16666666666666666, 'gini = 0.444\\nsamples = 6\\nvalue = [4, 2]'),\n",
       " Text(0.875, 0.16666666666666666, 'gini = 0.0\\nsamples = 126\\nvalue = [126, 0]')]"
      ]
     },
     "execution_count": 98,
     "metadata": {},
     "output_type": "execute_result"
    },
    {
     "data": {
      "image/png": "[encoded data removed]",
      "text/plain": [
       "<Figure size 432x288 with 1 Axes>"
      ]
     },
     "metadata": {
      "needs_background": "light"
     },
     "output_type": "display_data"
    }
   ],
   "source": [
    "# decision tree (h)\n",
    "tree.plot_tree(clf, feature_names=cancer_data.feature_names)"
   ]
  },
  {
   "cell_type": "code",
   "execution_count": 99,
   "metadata": {},
   "outputs": [
    {
     "data": {
      "text/plain": [
       "[<matplotlib.lines.Line2D at 0x233867bcdc0>]"
      ]
     },
     "execution_count": 99,
     "metadata": {},
     "output_type": "execute_result"
    },
    {
     "data": {
      "image/png": "[encoded data removed]",
      "text/plain": [
       "<Figure size 432x288 with 1 Axes>"
      ]
     },
     "metadata": {
      "needs_background": "light"
     },
     "output_type": "display_data"
    }
   ],
   "source": [
    "# i bagging\n",
    "from sklearn.datasets import make_classification\n",
    "from sklearn.ensemble import BaggingClassifier\n",
    "import matplotlib.pyplot as plt\n",
    "\n",
    "\n",
    "n_est = 30\n",
    "bagging_score = []\n",
    "for i in range(1, n_est):\n",
    "    bag = BaggingClassifier(n_estimators=i)\n",
    "    bag.fit(x_train, y_train)\n",
    "    bagging_score.append(bag.score(x_train, y_train))\n",
    "# print(bagging_score)\n",
    "n_estimate = list(range(1, n_est))\n",
    "# print(len(n_estimate))\n",
    "plt.plot(n_estimate, bagging_score)\n"
   ]
  },
  {
   "cell_type": "code",
   "execution_count": 105,
   "metadata": {},
   "outputs": [
    {
     "name": "stdout",
     "output_type": "stream",
     "text": [
      "x_train\n",
      "[[-0.60408221 -0.30624914 -0.66228757 ... -1.34634798 -1.23731664\n",
      "  -0.76362748]\n",
      " [-1.12279618 -1.02018025 -1.12834923 ... -1.37974063  1.12995399\n",
      "  -0.21354299]\n",
      " [ 1.70503159  1.83086268  1.63207664 ...  0.83479189  0.43651108\n",
      "  -0.22529454]\n",
      " ...\n",
      " [-0.51762988 -1.63111802 -0.54718569 ... -0.13005551  0.36648359\n",
      "  -0.45305078]\n",
      " [-0.09652338 -0.4747837  -0.16351274 ... -0.99118566 -0.90767506\n",
      "  -0.68248582]\n",
      " [ 1.82216055  2.78121033  1.74515919 ...  0.77631629 -0.04684937\n",
      "  -0.10274265]]\n",
      "\n",
      "X_train\n",
      "[[1.203e+01 1.793e+01 7.609e+01 ... 2.796e-02 2.171e-01 7.037e-02]\n",
      " [1.017e+01 1.488e+01 6.455e+01 ... 2.579e-02 3.557e-01 8.020e-02]\n",
      " [2.031e+01 2.706e+01 1.329e+02 ... 1.697e-01 3.151e-01 7.999e-02]\n",
      " ...\n",
      " [1.234e+01 1.227e+01 7.894e+01 ... 1.070e-01 3.110e-01 7.592e-02]\n",
      " [1.385e+01 1.721e+01 8.844e+01 ... 5.104e-02 2.364e-01 7.182e-02]\n",
      " [2.073e+01 3.112e+01 1.357e+02 ... 1.659e-01 2.868e-01 8.218e-02]]\n"
     ]
    },
    {
     "data": {
      "text/plain": [
       "[<matplotlib.lines.Line2D at 0x233869cf280>]"
      ]
     },
     "execution_count": 105,
     "metadata": {},
     "output_type": "execute_result"
    },
    {
     "data": {
      "image/png": "[encoded data removed]",
      "text/plain": [
       "<Figure size 432x288 with 1 Axes>"
      ]
     },
     "metadata": {
      "needs_background": "light"
     },
     "output_type": "display_data"
    }
   ],
   "source": [
    "# j AdaBoost\n",
    "from sklearn.ensemble import AdaBoostClassifier\n",
    "from sklearn.tree import DecisionTreeClassifier\n",
    "\n",
    "n_est = 30\n",
    "boost_score = []\n",
    "for i in range(1, n_est):\n",
    "    ada = AdaBoostClassifier(DecisionTreeClassifier(), n_estimators=n_est)\n",
    "    ada.fit(x_train, y_train)\n",
    "    boost_score.append(ada.score(x_train, y_train))\n",
    "\n",
    "# print(bagging_score)\n",
    "n_estimate = list(range(1, n_est))\n",
    "# print(len(n_estimate))\n",
    "plt.plot(n_estimate, boost_score)\n"
   ]
  },
  {
   "cell_type": "code",
   "execution_count": 101,
   "metadata": {},
   "outputs": [
    {
     "data": {
      "text/plain": [
       "RandomForestClassifier(n_estimators=20)"
      ]
     },
     "execution_count": 101,
     "metadata": {},
     "output_type": "execute_result"
    }
   ],
   "source": [
    "# k random forest\n",
    "from sklearn.ensemble import RandomForestClassifier\n",
    "\n",
    "rf = RandomForestClassifier(n_estimators=20)\n",
    "rf.fit(x_train, y_train)"
   ]
  }
 ],
 "metadata": {
  "interpreter": {
   "hash": "81794d4967e6c3204c66dcd87b604927b115b27c00565d3d43f05ba2f3a2cb0d"
  },
  "kernelspec": {
   "display_name": "Python 3.9.4 64-bit",
   "language": "python",
   "name": "python3"
  },
  "language_info": {
   "codemirror_mode": {
    "name": "ipython",
    "version": 3
   },
   "file_extension": ".py",
   "mimetype": "text/x-python",
   "name": "python",
   "nbconvert_exporter": "python",
   "pygments_lexer": "ipython3",
   "version": "3.9.4"
  },
  "orig_nbformat": 4
 },
 "nbformat": 4,
 "nbformat_minor": 2
}
