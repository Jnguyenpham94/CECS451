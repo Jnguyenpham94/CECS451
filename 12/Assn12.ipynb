{
 "cells": [
  {
   "cell_type": "code",
   "execution_count": 2,
   "metadata": {},
   "outputs": [
    {
     "name": "stdout",
     "output_type": "stream",
     "text": [
      "(b) features:\n",
      "['mean radius' 'mean texture' 'mean perimeter' 'mean area'\n",
      " 'mean smoothness' 'mean compactness' 'mean concavity'\n",
      " 'mean concave points' 'mean symmetry' 'mean fractal dimension'\n",
      " 'radius error' 'texture error' 'perimeter error' 'area error'\n",
      " 'smoothness error' 'compactness error' 'concavity error'\n",
      " 'concave points error' 'symmetry error' 'fractal dimension error'\n",
      " 'worst radius' 'worst texture' 'worst perimeter' 'worst area'\n",
      " 'worst smoothness' 'worst compactness' 'worst concavity'\n",
      " 'worst concave points' 'worst symmetry' 'worst fractal dimension']\n",
      "\n",
      "name of target:\n",
      "['malignant' 'benign']\n"
     ]
    }
   ],
   "source": [
    "import sklearn\n",
    "from sklearn.datasets import load_breast_cancer\n",
    "from sklearn.model_selection import train_test_split\n",
    "from sklearn import tree\n",
    "\n",
    "cancer_data = load_breast_cancer()\n",
    "\n",
    "# print features and target (b)\n",
    "print(\"(b) features:\")\n",
    "print(cancer_data.feature_names)\n",
    "print(\"\\nname of target:\")\n",
    "print(cancer_data.target_names)\n",
    "\n",
    "# allocate data and split (c)\n",
    "x = cancer_data.data\n",
    "y = cancer_data.target\n",
    "X_train, X_test, y_train, y_test = train_test_split(x, y, random_state=10)\n",
    "# print(X_train, X_test)\n",
    "# print(y_train, y_test)\n"
   ]
  },
  {
   "cell_type": "code",
   "execution_count": 3,
   "metadata": {},
   "outputs": [
    {
     "data": {
      "text/plain": [
       "[Text(0.5732758620689655, 0.9375, 'X[27] <= 0.142\\ngini = 0.465\\nsamples = 426\\nvalue = [157, 269]'),\n",
       " Text(0.3879310344827586, 0.8125, 'X[23] <= 957.45\\ngini = 0.155\\nsamples = 284\\nvalue = [24, 260]'),\n",
       " Text(0.22413793103448276, 0.6875, 'X[22] <= 101.95\\ngini = 0.072\\nsamples = 267\\nvalue = [10, 257]'),\n",
       " Text(0.10344827586206896, 0.5625, 'X[12] <= 6.597\\ngini = 0.017\\nsamples = 230\\nvalue = [2, 228]'),\n",
       " Text(0.06896551724137931, 0.4375, 'X[21] <= 33.35\\ngini = 0.009\\nsamples = 229\\nvalue = [1, 228]'),\n",
       " Text(0.034482758620689655, 0.3125, 'gini = 0.0\\nsamples = 220\\nvalue = [0, 220]'),\n",
       " Text(0.10344827586206896, 0.3125, 'X[21] <= 33.56\\ngini = 0.198\\nsamples = 9\\nvalue = [1, 8]'),\n",
       " Text(0.06896551724137931, 0.1875, 'gini = 0.0\\nsamples = 1\\nvalue = [1, 0]'),\n",
       " Text(0.13793103448275862, 0.1875, 'gini = 0.0\\nsamples = 8\\nvalue = [0, 8]'),\n",
       " Text(0.13793103448275862, 0.4375, 'gini = 0.0\\nsamples = 1\\nvalue = [1, 0]'),\n",
       " Text(0.3448275862068966, 0.5625, 'X[24] <= 0.13\\ngini = 0.339\\nsamples = 37\\nvalue = [8, 29]'),\n",
       " Text(0.27586206896551724, 0.4375, 'X[17] <= 0.018\\ngini = 0.133\\nsamples = 28\\nvalue = [2, 26]'),\n",
       " Text(0.2413793103448276, 0.3125, 'X[21] <= 33.78\\ngini = 0.071\\nsamples = 27\\nvalue = [1, 26]'),\n",
       " Text(0.20689655172413793, 0.1875, 'gini = 0.0\\nsamples = 25\\nvalue = [0, 25]'),\n",
       " Text(0.27586206896551724, 0.1875, 'X[11] <= 1.807\\ngini = 0.5\\nsamples = 2\\nvalue = [1, 1]'),\n",
       " Text(0.2413793103448276, 0.0625, 'gini = 0.0\\nsamples = 1\\nvalue = [1, 0]'),\n",
       " Text(0.3103448275862069, 0.0625, 'gini = 0.0\\nsamples = 1\\nvalue = [0, 1]'),\n",
       " Text(0.3103448275862069, 0.3125, 'gini = 0.0\\nsamples = 1\\nvalue = [1, 0]'),\n",
       " Text(0.41379310344827586, 0.4375, 'X[2] <= 95.03\\ngini = 0.444\\nsamples = 9\\nvalue = [6, 3]'),\n",
       " Text(0.3793103448275862, 0.3125, 'gini = 0.0\\nsamples = 6\\nvalue = [6, 0]'),\n",
       " Text(0.4482758620689655, 0.3125, 'gini = 0.0\\nsamples = 3\\nvalue = [0, 3]'),\n",
       " Text(0.5517241379310345, 0.6875, 'X[26] <= 0.191\\ngini = 0.291\\nsamples = 17\\nvalue = [14, 3]'),\n",
       " Text(0.5172413793103449, 0.5625, 'X[6] <= 0.039\\ngini = 0.375\\nsamples = 4\\nvalue = [1, 3]'),\n",
       " Text(0.4827586206896552, 0.4375, 'gini = 0.0\\nsamples = 1\\nvalue = [1, 0]'),\n",
       " Text(0.5517241379310345, 0.4375, 'gini = 0.0\\nsamples = 3\\nvalue = [0, 3]'),\n",
       " Text(0.5862068965517241, 0.5625, 'gini = 0.0\\nsamples = 13\\nvalue = [13, 0]'),\n",
       " Text(0.7586206896551724, 0.8125, 'X[12] <= 1.54\\ngini = 0.119\\nsamples = 142\\nvalue = [133, 9]'),\n",
       " Text(0.6896551724137931, 0.6875, 'X[15] <= 0.014\\ngini = 0.32\\nsamples = 5\\nvalue = [1, 4]'),\n",
       " Text(0.6551724137931034, 0.5625, 'gini = 0.0\\nsamples = 1\\nvalue = [1, 0]'),\n",
       " Text(0.7241379310344828, 0.5625, 'gini = 0.0\\nsamples = 4\\nvalue = [0, 4]'),\n",
       " Text(0.8275862068965517, 0.6875, 'X[20] <= 12.6\\ngini = 0.07\\nsamples = 137\\nvalue = [132, 5]'),\n",
       " Text(0.7931034482758621, 0.5625, 'gini = 0.0\\nsamples = 2\\nvalue = [0, 2]'),\n",
       " Text(0.8620689655172413, 0.5625, 'X[4] <= 0.079\\ngini = 0.043\\nsamples = 135\\nvalue = [132, 3]'),\n",
       " Text(0.8275862068965517, 0.4375, 'gini = 0.0\\nsamples = 1\\nvalue = [0, 1]'),\n",
       " Text(0.896551724137931, 0.4375, 'X[26] <= 0.203\\ngini = 0.029\\nsamples = 134\\nvalue = [132, 2]'),\n",
       " Text(0.8620689655172413, 0.3125, 'gini = 0.0\\nsamples = 1\\nvalue = [0, 1]'),\n",
       " Text(0.9310344827586207, 0.3125, 'X[6] <= 0.086\\ngini = 0.015\\nsamples = 133\\nvalue = [132, 1]'),\n",
       " Text(0.896551724137931, 0.1875, 'X[4] <= 0.099\\ngini = 0.32\\nsamples = 5\\nvalue = [4, 1]'),\n",
       " Text(0.8620689655172413, 0.0625, 'gini = 0.0\\nsamples = 4\\nvalue = [4, 0]'),\n",
       " Text(0.9310344827586207, 0.0625, 'gini = 0.0\\nsamples = 1\\nvalue = [0, 1]'),\n",
       " Text(0.9655172413793104, 0.1875, 'gini = 0.0\\nsamples = 128\\nvalue = [128, 0]')]"
      ]
     },
     "execution_count": 3,
     "metadata": {},
     "output_type": "execute_result"
    },
    {
     "data": {
      "image/png": "[encoded data removed]",
      "text/plain": [
       "<Figure size 432x288 with 1 Axes>"
      ]
     },
     "metadata": {
      "needs_background": "light"
     },
     "output_type": "display_data"
    }
   ],
   "source": [
    "# decision tree(g)\n",
    "clf = tree.DecisionTreeClassifier()\n",
    "clf = clf.fit(X_train, y_train)\n",
    "tree.plot_tree(clf)"
   ]
  }
 ],
 "metadata": {
  "interpreter": {
   "hash": "63fd5069d213b44bf678585dea6b12cceca9941eaf7f819626cde1f2670de90d"
  },
  "kernelspec": {
   "display_name": "Python 3.9.4 64-bit",
   "language": "python",
   "name": "python3"
  },
  "language_info": {
   "codemirror_mode": {
    "name": "ipython",
    "version": 3
   },
   "file_extension": ".py",
   "mimetype": "text/x-python",
   "name": "python",
   "nbconvert_exporter": "python",
   "pygments_lexer": "ipython3",
   "version": "3.9.4"
  },
  "orig_nbformat": 4
 },
 "nbformat": 4,
 "nbformat_minor": 2
}
