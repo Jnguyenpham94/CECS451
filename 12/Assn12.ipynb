{
 "cells": [
  {
   "cell_type": "code",
   "execution_count": 53,
   "metadata": {},
   "outputs": [
    {
     "name": "stdout",
     "output_type": "stream",
     "text": [
      "(b) features:\n",
      "['mean radius' 'mean texture' 'mean perimeter' 'mean area'\n",
      " 'mean smoothness' 'mean compactness' 'mean concavity'\n",
      " 'mean concave points' 'mean symmetry' 'mean fractal dimension'\n",
      " 'radius error' 'texture error' 'perimeter error' 'area error'\n",
      " 'smoothness error' 'compactness error' 'concavity error'\n",
      " 'concave points error' 'symmetry error' 'fractal dimension error'\n",
      " 'worst radius' 'worst texture' 'worst perimeter' 'worst area'\n",
      " 'worst smoothness' 'worst compactness' 'worst concavity'\n",
      " 'worst concave points' 'worst symmetry' 'worst fractal dimension']\n",
      "\n",
      "name of target:\n",
      "['malignant' 'benign']\n",
      "[[1.613e+01 1.788e+01 1.070e+02 ... 1.864e-01 4.270e-01 1.233e-01]\n",
      " [1.161e+01 1.602e+01 7.546e+01 ... 1.105e-01 2.787e-01 7.427e-02]\n",
      " [1.487e+01 1.667e+01 9.864e+01 ... 2.027e-01 3.585e-01 1.065e-01]\n",
      " ...\n",
      " [1.799e+01 2.066e+01 1.178e+02 ... 1.974e-01 3.060e-01 8.503e-02]\n",
      " [1.387e+01 2.070e+01 8.977e+01 ... 6.845e-02 2.249e-01 8.492e-02]\n",
      " [9.567e+00 1.591e+01 6.021e+01 ... 7.222e-02 2.757e-01 8.178e-02]] [[1.464e+01 1.685e+01 9.421e+01 ... 7.828e-02 2.455e-01 6.596e-02]\n",
      " [1.865e+01 1.760e+01 1.237e+02 ... 2.378e-01 3.799e-01 9.185e-02]\n",
      " [1.189e+01 1.736e+01 7.620e+01 ... 8.946e-02 2.220e-01 6.033e-02]\n",
      " ...\n",
      " [1.317e+01 1.866e+01 8.598e+01 ... 2.088e-01 3.900e-01 1.179e-01]\n",
      " [1.425e+01 2.215e+01 9.642e+01 ... 1.785e-01 2.844e-01 1.132e-01]\n",
      " [1.003e+01 2.128e+01 6.319e+01 ... 2.579e-02 2.349e-01 8.061e-02]]\n",
      "[0 1 0 0 1 0 1 1 1 0 1 0 0 0 1 0 1 1 1 1 1 0 0 1 0 1 1 1 1 0 1 0 1 1 1 1 0\n",
      " 0 0 1 0 1 1 0 0 0 0 1 1 1 1 1 1 0 1 1 1 1 1 1 1 1 1 1 1 1 1 1 1 0 1 1 1 1\n",
      " 1 0 1 1 0 0 0 1 0 0 1 1 1 0 0 1 1 1 1 0 1 1 0 1 0 1 1 0 0 1 1 0 1 1 0 1 0\n",
      " 1 0 0 0 1 1 0 1 1 0 1 1 1 0 0 1 1 1 0 0 1 0 0 0 0 1 0 1 1 0 0 1 1 1 1 0 1\n",
      " 0 1 0 1 0 0 1 0 0 1 0 1 0 1 0 1 0 0 0 1 1 1 1 1 1 1 0 0 0 0 0 1 1 1 1 0 1\n",
      " 1 0 0 1 0 1 1 1 1 0 1 1 0 1 1 0 0 0 1 1 0 1 0 0 1 0 1 1 1 1 1 1 0 0 1 1 1\n",
      " 1 0 1 1 1 0 0 1 0 0 0 1 0 1 0 0 1 0 0 0 1 1 1 0 1 1 1 1 0 1 1 1 1 1 1 1 0\n",
      " 1 1 1 1 1 1 1 1 1 1 0 1 1 1 1 0 0 1 0 1 1 0 0 1 0 1 1 1 1 1 1 1 0 1 0 1 1\n",
      " 0 1 1 0 1 0 1 1 0 0 1 1 1 1 1 0 1 0 0 1 0 0 0 0 1 1 1 0 1 1 1 1 1 1 1 1 1\n",
      " 0 1 0 1 0 1 1 1 1 1 0 1 1 1 0 1 0 1 0 1 1 0 0 0 0 0 1 0 0 1 0 1 1 0 0 0 0\n",
      " 1 1 1 1 1 1 1 0 1 0 0 0 1 0 1 1 1 1 1 1 1 1 0 1 1 1 0 0 0 0 1 1 1 1 1 0 1\n",
      " 0 1 0 1 0 0 0 0 1 1 1 1 0 1 1 1 0 1 1] [1 0 1 1 1 0 1 1 0 1 0 0 1 1 1 1 0 1 1 0 1 1 1 0 0 1 1 1 0 1 1 1 0 0 1 1 0\n",
      " 0 1 1 0 1 1 1 1 1 1 0 1 1 1 1 1 1 1 1 1 0 1 1 1 1 0 1 0 1 1 1 0 1 1 1 1 0\n",
      " 0 0 1 1 0 1 1 0 1 0 1 1 0 0 0 1 1 1 0 0 1 1 1 1 0 0 1 1 0 1 0 1 1 1 1 1 1\n",
      " 0 0 0 1 0 0 1 0 1 1 0 1 1 1 1 0 1 1 0 1 1 1 0 1 1 0 1 1 1 0 0 1]\n"
     ]
    }
   ],
   "source": [
    "import sklearn\n",
    "from sklearn.datasets import load_breast_cancer\n",
    "from sklearn.model_selection import train_test_split\n",
    "from sklearn import tree\n",
    "\n",
    "cancer_data = load_breast_cancer()\n",
    "\n",
    "# print features and target (b)\n",
    "print(\"(b) features:\")\n",
    "print(cancer_data.feature_names)\n",
    "print(\"\\nname of target:\")\n",
    "print(cancer_data.target_names)\n",
    "\n",
    "# allocate data and split (c)\n",
    "x = cancer_data.data\n",
    "y = cancer_data.target\n",
    "X_train, X_test, y_train, y_test = train_test_split(x, y)\n",
    "print(X_train, X_test)\n",
    "print(y_train, y_test)\n",
    "\n",
    "# decision tree(g)\n",
    "clf = tree.DecisionTreeClassifier()\n",
    "clf = clf.fit(X_train, y_train)\n",
    "tree.plot_tree(clf)\n"
   ]
  }
 ],
 "metadata": {
  "interpreter": {
   "hash": "63fd5069d213b44bf678585dea6b12cceca9941eaf7f819626cde1f2670de90d"
  },
  "kernelspec": {
   "display_name": "Python 3.9.4 64-bit",
   "language": "python",
   "name": "python3"
  },
  "language_info": {
   "codemirror_mode": {
    "name": "ipython",
    "version": 3
   },
   "file_extension": ".py",
   "mimetype": "text/x-python",
   "name": "python",
   "nbconvert_exporter": "python",
   "pygments_lexer": "ipython3",
   "version": "3.9.4"
  },
  "orig_nbformat": 4
 },
 "nbformat": 4,
 "nbformat_minor": 2
}
