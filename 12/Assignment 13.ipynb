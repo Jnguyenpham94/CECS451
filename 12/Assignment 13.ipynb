{
 "cells": [
  {
   "cell_type": "code",
   "execution_count": 8,
   "metadata": {},
   "outputs": [
    {
     "ename": "ValueError",
     "evalue": "math domain error",
     "output_type": "error",
     "traceback": [
      "\u001b[1;31m---------------------------------------------------------------------------\u001b[0m",
      "\u001b[1;31mValueError\u001b[0m                                Traceback (most recent call last)",
      "\u001b[1;32mc:\\Users\\nguye\\Documents\\GitHub\\CECS451\\12\\Assignment 13.ipynb Cell 1'\u001b[0m in \u001b[0;36m<cell line: 7>\u001b[1;34m()\u001b[0m\n\u001b[0;32m      <a href='vscode-notebook-cell:/c%3A/Users/nguye/Documents/GitHub/CECS451/12/Assignment%2013.ipynb#ch0000000?line=4'>5</a>\u001b[0m q3 \u001b[39m=\u001b[39m \u001b[39m1\u001b[39m\u001b[39m/\u001b[39m\u001b[39m3\u001b[39m\n\u001b[0;32m      <a href='vscode-notebook-cell:/c%3A/Users/nguye/Documents/GitHub/CECS451/12/Assignment%2013.ipynb#ch0000000?line=5'>6</a>\u001b[0m b \u001b[39m=\u001b[39m (\u001b[39m-\u001b[39m\u001b[39m1\u001b[39m)\u001b[39m*\u001b[39m(\u001b[39m1\u001b[39m\u001b[39m/\u001b[39m\u001b[39m2\u001b[39m\u001b[39m*\u001b[39mmath\u001b[39m.\u001b[39mlog(\u001b[39m1\u001b[39m\u001b[39m/\u001b[39m\u001b[39m2\u001b[39m, \u001b[39m2\u001b[39m) \u001b[39m+\u001b[39m (\u001b[39m1\u001b[39m\u001b[39m-\u001b[39m\u001b[39m1\u001b[39m\u001b[39m/\u001b[39m\u001b[39m2\u001b[39m)\u001b[39m*\u001b[39mmath\u001b[39m.\u001b[39mlog(\u001b[39m1\u001b[39m\u001b[39m-\u001b[39m\u001b[39m1\u001b[39m\u001b[39m/\u001b[39m\u001b[39m2\u001b[39m, \u001b[39m2\u001b[39m))\n\u001b[1;32m----> <a href='vscode-notebook-cell:/c%3A/Users/nguye/Documents/GitHub/CECS451/12/Assignment%2013.ipynb#ch0000000?line=6'>7</a>\u001b[0m b1 \u001b[39m=\u001b[39m (\u001b[39m-\u001b[39m\u001b[39m1\u001b[39m)\u001b[39m*\u001b[39m(q1\u001b[39m*\u001b[39mmath\u001b[39m.\u001b[39;49mlog(q1, \u001b[39m2\u001b[39;49m) \u001b[39m+\u001b[39m (\u001b[39m1\u001b[39m\u001b[39m-\u001b[39mq1)\u001b[39m*\u001b[39mmath\u001b[39m.\u001b[39mlog(\u001b[39m1\u001b[39m\u001b[39m-\u001b[39mq1, \u001b[39m2\u001b[39m))\n\u001b[0;32m      <a href='vscode-notebook-cell:/c%3A/Users/nguye/Documents/GitHub/CECS451/12/Assignment%2013.ipynb#ch0000000?line=7'>8</a>\u001b[0m \u001b[39m# b2 = (-1)*(q2*math.log(q2, 2) + (1-q2)*math.log(1-q2, 2))\u001b[39;00m\n\u001b[0;32m      <a href='vscode-notebook-cell:/c%3A/Users/nguye/Documents/GitHub/CECS451/12/Assignment%2013.ipynb#ch0000000?line=8'>9</a>\u001b[0m \u001b[39m# b3 = (-1)*(q3*math.log(q3, 2) + (1-q3)*math.log(1-q3, 2))\u001b[39;00m\n\u001b[0;32m     <a href='vscode-notebook-cell:/c%3A/Users/nguye/Documents/GitHub/CECS451/12/Assignment%2013.ipynb#ch0000000?line=9'>10</a>\u001b[0m \u001b[39m# x = b - (b1 + b2 + b3)\u001b[39;00m\n\u001b[0;32m     <a href='vscode-notebook-cell:/c%3A/Users/nguye/Documents/GitHub/CECS451/12/Assignment%2013.ipynb#ch0000000?line=10'>11</a>\u001b[0m \u001b[39mprint\u001b[39m(b1)\n",
      "\u001b[1;31mValueError\u001b[0m: math domain error"
     ]
    }
   ],
   "source": [
    "import math\n",
    "\n",
    "q1 = 0\n",
    "q2 = 1\n",
    "q3 = 1/3\n",
    "b1 = 0\n",
    "b = (-1)*(1/2*math.log(1/2, 2) + (1-1/2)*math.log(1-1/2, 2))\n",
    "# b1 = (-1)*(q1*math.log(q1, 2) + (1-q1)*math.log(1-q1, 2))\n",
    "b2 = (-1)*(q2*math.log(q2, 2) + (1-q2)*math.log(1-q2, 2))\n",
    "b3 = (-1)*(q3*math.log(q3, 2) + (1-q3)*math.log(1-q3, 2))\n",
    "# x = b - (b1 + b2 + b3)\n",
    "print(b1)"
   ]
  }
 ],
 "metadata": {
  "interpreter": {
   "hash": "63fd5069d213b44bf678585dea6b12cceca9941eaf7f819626cde1f2670de90d"
  },
  "kernelspec": {
   "display_name": "Python 3.9.4 64-bit",
   "language": "python",
   "name": "python3"
  },
  "language_info": {
   "codemirror_mode": {
    "name": "ipython",
    "version": 3
   },
   "file_extension": ".py",
   "mimetype": "text/x-python",
   "name": "python",
   "nbconvert_exporter": "python",
   "pygments_lexer": "ipython3",
   "version": "3.9.4"
  },
  "orig_nbformat": 4
 },
 "nbformat": 4,
 "nbformat_minor": 2
}
