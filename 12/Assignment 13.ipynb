{
 "cells": [
  {
   "cell_type": "code",
   "execution_count": 3,
   "metadata": {},
   "outputs": [
    {
     "name": "stdout",
     "output_type": "stream",
     "text": [
      "(A)\n",
      "0.17095059445466854\n",
      "(B)\n",
      "0.4199730940219749\n",
      "(C)\n",
      "0.01997309402197489\n"
     ]
    }
   ],
   "source": [
    "# assignment 13 calculation\n",
    "# calculates the entropy and eventually the information gain of the assignment\n",
    "\n",
    "import math\n",
    "\n",
    "q = 2/5\n",
    "q1 = 1/2\n",
    "\n",
    "q2 = 2/3\n",
    "\n",
    "q31 = 1/3\n",
    "q32 = 1/2\n",
    "\n",
    "# entropy calculation\n",
    "b = (-1)*(q*math.log(q, 2) + (1-q)*math.log(1-q, 2))\n",
    "b1 = (-1)*(q1*math.log(q1, 2) + (1-q1)*math.log(1-q1, 2))\n",
    "b2 = (-1)*(q2*math.log(q2, 2) + (1-q2)*math.log(1-q2, 2)) \n",
    "b31 = (-1)*(q31*math.log(q31, 2) + (1-q31)*math.log(1-q31, 2))\n",
    "b32 = (-1)*(q32*math.log(q32, 2) + (1-q32)*math.log(1-q32,2))\n",
    "\n",
    "# information gain\n",
    "x = b - (4/5*b1)\n",
    "x2 = b - (0 + 3/5*b2)\n",
    "x3 = b - (3/5*b31 + 2/5*b32)\n",
    "\n",
    "print(\"(A)\")\n",
    "print(x)\n",
    "print(\"(B)\")\n",
    "print(x2)\n",
    "print(\"(C)\")\n",
    "print(x3)"
   ]
  }
 ],
 "metadata": {
  "interpreter": {
   "hash": "81794d4967e6c3204c66dcd87b604927b115b27c00565d3d43f05ba2f3a2cb0d"
  },
  "kernelspec": {
   "display_name": "Python 3.9.4 64-bit",
   "language": "python",
   "name": "python3"
  },
  "language_info": {
   "codemirror_mode": {
    "name": "ipython",
    "version": 3
   },
   "file_extension": ".py",
   "mimetype": "text/x-python",
   "name": "python",
   "nbconvert_exporter": "python",
   "pygments_lexer": "ipython3",
   "version": "3.9.4"
  },
  "orig_nbformat": 4
 },
 "nbformat": 4,
 "nbformat_minor": 2
}
