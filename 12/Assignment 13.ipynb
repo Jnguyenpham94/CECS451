{
 "cells": [
  {
   "cell_type": "code",
   "execution_count": 29,
   "metadata": {},
   "outputs": [
    {
     "name": "stdout",
     "output_type": "stream",
     "text": [
      "0.7303078961588811\n",
      "0.6473003963031124\n",
      "0.6473003963031124\n"
     ]
    }
   ],
   "source": [
    "import math\n",
    "\n",
    "q = 9/15\n",
    "q1 = 4/5\n",
    "q2 = 3/5\n",
    "q3 = 2/5 \n",
    "\n",
    "b = (-1)*(q*math.log(q, 2) + (1-q)*math.log(1-q, 2))\n",
    "b1 = (-1)*(q1*math.log(q1, 2) + (1-q1)*math.log(1-q1, 2))\n",
    "b2 = (-1)*(q2*math.log(q2, 2) + (1-q2)*math.log(1-q2, 2))\n",
    "b3 = (-1)*(q3*math.log(q3, 2) + (1-q3)*math.log(1-q3, 2))\n",
    "# b = -1\n",
    "x = b - (5/15*b1)\n",
    "x2 = b - (5/15*b3)\n",
    "x3 = b - (5/15*b3)\n",
    "print(x)\n",
    "print(x2)\n",
    "print(x3)"
   ]
  }
 ],
 "metadata": {
  "interpreter": {
   "hash": "63fd5069d213b44bf678585dea6b12cceca9941eaf7f819626cde1f2670de90d"
  },
  "kernelspec": {
   "display_name": "Python 3.9.4 64-bit",
   "language": "python",
   "name": "python3"
  },
  "language_info": {
   "codemirror_mode": {
    "name": "ipython",
    "version": 3
   },
   "file_extension": ".py",
   "mimetype": "text/x-python",
   "name": "python",
   "nbconvert_exporter": "python",
   "pygments_lexer": "ipython3",
   "version": "3.9.4"
  },
  "orig_nbformat": 4
 },
 "nbformat": 4,
 "nbformat_minor": 2
}
