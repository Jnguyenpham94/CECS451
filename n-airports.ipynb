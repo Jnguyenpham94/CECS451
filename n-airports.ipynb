{
 "cells": [
  {
   "cell_type": "code",
   "execution_count": 5,
   "metadata": {},
   "outputs": [
    {
     "data": {
      "text/plain": [
       "<module 'matplotlib.pyplot' from 'C:\\\\Users\\\\nguye\\\\Anaconda3\\\\lib\\\\site-packages\\\\matplotlib\\\\pyplot.py'>"
      ]
     },
     "execution_count": 5,
     "metadata": {},
     "output_type": "execute_result"
    },
    {
     "data": {
      "image/png": "[encoded data removed]",
      "text/plain": [
       "<Figure size 432x288 with 1 Axes>"
      ]
     },
     "metadata": {
      "needs_background": "light"
     },
     "output_type": "display_data"
    }
   ],
   "source": [
    "import random\n",
    "import numpy as np\n",
    "\n",
    "num_city = 100\n",
    "num_air = 3\n",
    "num_center = 5\n",
    "sigma = 0.1\n",
    "cities = set()\n",
    "airports = []\n",
    "\n",
    "for i in range(num_center):\n",
    "    x = random.random()\n",
    "    y = random.random()\n",
    "    xc = np.random.normal(x, sigma, num_city//num_center)\n",
    "    yc = np.random.normal(y, sigma, num_city//num_center)\n",
    "    cities = cities.union(zip(xc, yc))\n",
    "\n",
    "\n",
    "for i in range(num_air):\n",
    "    x = random.random()\n",
    "    y = random.random()\n",
    "    airports.append((x,y)) \n",
    "\n",
    "import matplotlib.pyplot as plt\n",
    "\n",
    "zip_cities = zip(*cities)\n",
    "plt.scatter(*zip_cities, marker='+',color='b', label='Cities')\n",
    "zip_airs = zip(*airports)\n",
    "plt.scatter(*zip_airs, marker='*', color='r', s=100, label='Airports')\n",
    "plt.legend()\n",
    "plt"
   ]
  },
  {
   "cell_type": "code",
   "execution_count": 6,
   "metadata": {},
   "outputs": [],
   "source": [
    "def distance(airport, city):\n",
    "    # need distance formula for airport to a city\n",
    "    return ((airport[0] - city[0])**2 + (airport[1] - city[1])**2)**0.5\n",
    "    \n",
    "\n",
    "def calcCitySets(airports, cities):\n",
    "    # list of size == len(airports)\n",
    "    # citySets = [[airportCities], [airport2Cities], [airport3Cities]]\n",
    "    citySets = []\n",
    "    for i in range(len(airports)):\n",
    "        citySets.append([])\n",
    "        \n",
    "    for city in cities:\n",
    "        closestAirportIndex = 0\n",
    "        smallestDist = distance(airport[0], city)\n",
    "        for i, airport in enumerate(airports[1:]):\n",
    "            curr = distance(airport, city)\n",
    "            if curr < smallestDist:\n",
    "                closestAirport = i\n",
    "                smallestDist = curr\n",
    "            citySets[closestAirportIndex].append(city)\n",
    "\n",
    "def objfunction(airports):# state\n",
    "    for city in cities:\n",
    "        x = (x1 - city[0])**2 + (y1 - city[1])**2\n",
    "    pass\n",
    "\n",
    "def calc_grad(airports, citySets):\n",
    "    # grad = [df/dx1, df/y1, ...]\n",
    "    grad = [] * len(airports) * 2\n",
    "    dfdx1 = 2 * (x - x_c)\n",
    "    grad.append(dfdx1)\n",
    "\n",
    "# update current state until either (1) # of epochs or (2) % change within threshold\n",
    "\n",
    "def gradient_descent(airports, cities):\n",
    "    # flatten airports to 1-D\n",
    "    state = []\n",
    "    for pair in airports:\n",
    "        # append x coords\n",
    "        state.append(pair[0])\n",
    "        # append y coords\n",
    "        state.append(pair[1])\n",
    "    \n",
    "    grad = [] * len(airports) * 2\n",
    "    maxEpochs = 20\n",
    "    delta =.0001\n",
    "    percentChange = 1\n",
    "\n",
    "    # list size 3, len(citySets) == 3\n",
    "    citySets = calcCitySets(airports, cities)\n",
    "    \n",
    "    objValues = []\n",
    "    objValues.append(objfunction(state, citySets))\n",
    "    numOfEpochs = 0\n",
    "    while numOfEpochs < maxEpochs:\n",
    "    # for i, airport in enumerate(airports):\n",
    "    #     citySets.append()\n",
    "        while percentChange > delta:\n",
    "            # updating state:\n",
    "            # state: [x1, y1, x2, y2, x3, y3]\n",
    "            # calcGrad return: [df/dx1, df/y1,...]\n",
    "            \n",
    "            # compute Gradient\n",
    "            gradVector = calc_grad(airports)\n",
    "            # move state\n",
    "            alpha = .00000001\n",
    "            state = state - alpha * gradVector\n",
    "            \n",
    "            # cal new city sets\n",
    "            citySets = calcCitySets(airports, cities)\n",
    "            \n",
    "            # store obj func value\n",
    "            objValues.append(objfunction(state, citySets))\n",
    "            \n",
    "            # airports = airports - delta * calc_grad(airports)\n",
    "            # objValues.append(objfunction(state))\n",
    "            \n",
    "            current = objValues[-1]\n",
    "            previous = objValues[-2]\n",
    "            percentChange = abs(previous - current/ objValues[-1])\n",
    "            \n",
    "            numOfEpochs += 1\n",
    "        \n",
    "    return state, objValues"
   ]
  },
  {
   "cell_type": "code",
   "execution_count": 7,
   "metadata": {},
   "outputs": [],
   "source": [
    "# plotting\n",
    "import matplotlib.pyplot as plt\n",
    "\n",
    "def plot(objValues):\n",
    "    plt.scatter(objValues)"
   ]
  },
  {
   "cell_type": "code",
   "execution_count": 8,
   "metadata": {},
   "outputs": [
    {
     "ename": "UnboundLocalError",
     "evalue": "local variable 'airport' referenced before assignment",
     "output_type": "error",
     "traceback": [
      "\u001b[1;31m---------------------------------------------------------------------------\u001b[0m",
      "\u001b[1;31mUnboundLocalError\u001b[0m                         Traceback (most recent call last)",
      "\u001b[1;32m<ipython-input-8-bd83b6002803>\u001b[0m in \u001b[0;36m<module>\u001b[1;34m\u001b[0m\n\u001b[0;32m      6\u001b[0m \u001b[0mplt\u001b[0m\u001b[1;33m\u001b[0m\u001b[1;33m\u001b[0m\u001b[0m\n\u001b[0;32m      7\u001b[0m \u001b[1;33m\u001b[0m\u001b[0m\n\u001b[1;32m----> 8\u001b[1;33m \u001b[0mstates\u001b[0m\u001b[1;33m,\u001b[0m \u001b[0mobjValues\u001b[0m \u001b[1;33m=\u001b[0m \u001b[0mgradient_descent\u001b[0m\u001b[1;33m(\u001b[0m\u001b[0mairports\u001b[0m\u001b[1;33m,\u001b[0m \u001b[0mcities\u001b[0m\u001b[1;33m)\u001b[0m\u001b[1;33m\u001b[0m\u001b[1;33m\u001b[0m\u001b[0m\n\u001b[0m\u001b[0;32m      9\u001b[0m \u001b[1;33m\u001b[0m\u001b[0m\n\u001b[0;32m     10\u001b[0m \u001b[0mzip_cities\u001b[0m \u001b[1;33m=\u001b[0m \u001b[0mzip\u001b[0m\u001b[1;33m(\u001b[0m\u001b[1;33m*\u001b[0m\u001b[0mcities\u001b[0m\u001b[1;33m)\u001b[0m\u001b[1;33m\u001b[0m\u001b[1;33m\u001b[0m\u001b[0m\n",
      "\u001b[1;32m<ipython-input-6-1a941df827e2>\u001b[0m in \u001b[0;36mgradient_descent\u001b[1;34m(airports, cities)\u001b[0m\n\u001b[0;32m     49\u001b[0m \u001b[1;33m\u001b[0m\u001b[0m\n\u001b[0;32m     50\u001b[0m     \u001b[1;31m# list size 3, len(citySets) == 3\u001b[0m\u001b[1;33m\u001b[0m\u001b[1;33m\u001b[0m\u001b[1;33m\u001b[0m\u001b[0m\n\u001b[1;32m---> 51\u001b[1;33m     \u001b[0mcitySets\u001b[0m \u001b[1;33m=\u001b[0m \u001b[0mcalcCitySets\u001b[0m\u001b[1;33m(\u001b[0m\u001b[0mairports\u001b[0m\u001b[1;33m,\u001b[0m \u001b[0mcities\u001b[0m\u001b[1;33m)\u001b[0m\u001b[1;33m\u001b[0m\u001b[1;33m\u001b[0m\u001b[0m\n\u001b[0m\u001b[0;32m     52\u001b[0m \u001b[1;33m\u001b[0m\u001b[0m\n\u001b[0;32m     53\u001b[0m     \u001b[0mobjValues\u001b[0m \u001b[1;33m=\u001b[0m \u001b[1;33m[\u001b[0m\u001b[1;33m]\u001b[0m\u001b[1;33m\u001b[0m\u001b[1;33m\u001b[0m\u001b[0m\n",
      "\u001b[1;32m<ipython-input-6-1a941df827e2>\u001b[0m in \u001b[0;36mcalcCitySets\u001b[1;34m(airports, cities)\u001b[0m\n\u001b[0;32m     13\u001b[0m     \u001b[1;32mfor\u001b[0m \u001b[0mcity\u001b[0m \u001b[1;32min\u001b[0m \u001b[0mcities\u001b[0m\u001b[1;33m:\u001b[0m\u001b[1;33m\u001b[0m\u001b[1;33m\u001b[0m\u001b[0m\n\u001b[0;32m     14\u001b[0m         \u001b[0mclosestAirportIndex\u001b[0m \u001b[1;33m=\u001b[0m \u001b[1;36m0\u001b[0m\u001b[1;33m\u001b[0m\u001b[1;33m\u001b[0m\u001b[0m\n\u001b[1;32m---> 15\u001b[1;33m         \u001b[0msmallestDist\u001b[0m \u001b[1;33m=\u001b[0m \u001b[0mdistance\u001b[0m\u001b[1;33m(\u001b[0m\u001b[0mairport\u001b[0m\u001b[1;33m[\u001b[0m\u001b[1;36m0\u001b[0m\u001b[1;33m]\u001b[0m\u001b[1;33m,\u001b[0m \u001b[0mcity\u001b[0m\u001b[1;33m)\u001b[0m\u001b[1;33m\u001b[0m\u001b[1;33m\u001b[0m\u001b[0m\n\u001b[0m\u001b[0;32m     16\u001b[0m         \u001b[1;32mfor\u001b[0m \u001b[0mi\u001b[0m\u001b[1;33m,\u001b[0m \u001b[0mairport\u001b[0m \u001b[1;32min\u001b[0m \u001b[0menumerate\u001b[0m\u001b[1;33m(\u001b[0m\u001b[0mairports\u001b[0m\u001b[1;33m[\u001b[0m\u001b[1;36m1\u001b[0m\u001b[1;33m:\u001b[0m\u001b[1;33m]\u001b[0m\u001b[1;33m)\u001b[0m\u001b[1;33m:\u001b[0m\u001b[1;33m\u001b[0m\u001b[1;33m\u001b[0m\u001b[0m\n\u001b[0;32m     17\u001b[0m             \u001b[0mcurr\u001b[0m \u001b[1;33m=\u001b[0m \u001b[0mdistance\u001b[0m\u001b[1;33m(\u001b[0m\u001b[0mairport\u001b[0m\u001b[1;33m,\u001b[0m \u001b[0mcity\u001b[0m\u001b[1;33m)\u001b[0m\u001b[1;33m\u001b[0m\u001b[1;33m\u001b[0m\u001b[0m\n",
      "\u001b[1;31mUnboundLocalError\u001b[0m: local variable 'airport' referenced before assignment"
     ]
    },
    {
     "data": {
      "image/png": "[encoded data removed]",
      "text/plain": [
       "<Figure size 432x288 with 1 Axes>"
      ]
     },
     "metadata": {
      "needs_background": "light"
     },
     "output_type": "display_data"
    }
   ],
   "source": [
    "zip_cities = zip(*cities)\n",
    "plt.scatter(*zip_cities, marker='+',color='b', label='Cities')\n",
    "zip_airs = zip(*airports)\n",
    "plt.scatter(*zip_airs, marker='*', color='r', s=100, label='Airports')\n",
    "plt.legend()\n",
    "plt\n",
    "\n",
    "states, objValues = gradient_descent(airports, cities)\n",
    "\n",
    "zip_cities = zip(*cities)\n",
    "plt.scatter(*zip_cities, marker='+',color='b', label='Cities')\n",
    "zip_airs = zip(*airports)\n",
    "plt.scatter(*zip_airs, marker='*', color='r', s=100, label='Airports')\n",
    "plt.legend()\n",
    "plt\n"
   ]
  }
 ],
 "metadata": {
  "kernelspec": {
   "display_name": "Python 3",
   "language": "python",
   "name": "python3"
  },
  "language_info": {
   "codemirror_mode": {
    "name": "ipython",
    "version": 3
   },
   "file_extension": ".py",
   "mimetype": "text/x-python",
   "name": "python",
   "nbconvert_exporter": "python",
   "pygments_lexer": "ipython3",
   "version": "3.7.4"
  }
 },
 "nbformat": 4,
 "nbformat_minor": 2
}
