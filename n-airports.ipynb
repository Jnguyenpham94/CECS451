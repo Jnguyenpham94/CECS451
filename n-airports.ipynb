{
 "cells": [
  {
   "cell_type": "code",
   "execution_count": 214,
   "metadata": {},
   "outputs": [
    {
     "data": {
      "text/plain": [
       "<module 'matplotlib.pyplot' from 'C:\\\\Users\\\\nguye\\\\Anaconda3\\\\lib\\\\site-packages\\\\matplotlib\\\\pyplot.py'>"
      ]
     },
     "execution_count": 214,
     "metadata": {},
     "output_type": "execute_result"
    },
    {
     "data": {
      "image/png": "[encoded data removed]",
      "text/plain": [
       "<Figure size 432x288 with 1 Axes>"
      ]
     },
     "metadata": {
      "needs_background": "light"
     },
     "output_type": "display_data"
    }
   ],
   "source": [
    "import random\n",
    "import numpy as np\n",
    "\n",
    "num_city = 100\n",
    "num_air = 3\n",
    "num_center = 5\n",
    "sigma = 0.1\n",
    "cities = set()\n",
    "airports = []\n",
    "\n",
    "for i in range(num_center):\n",
    "    x = random.random()\n",
    "    y = random.random()\n",
    "    xc = np.random.normal(x, sigma, num_city//num_center)\n",
    "    yc = np.random.normal(y, sigma, num_city//num_center)\n",
    "    cities = cities.union(zip(xc, yc))\n",
    "\n",
    "\n",
    "for i in range(num_air):\n",
    "    x = random.random()\n",
    "    y = random.random()\n",
    "    airports.append((x,y)) \n",
    "\n",
    "import matplotlib.pyplot as plt\n",
    "\n",
    "zip_cities = zip(*cities)\n",
    "plt.scatter(*zip_cities, marker='+',color='b', label='Cities')\n",
    "zip_airs = zip(*airports)\n",
    "plt.scatter(*zip_airs, marker='*', color='r', s=100, label='Airports')\n",
    "plt.legend()\n",
    "plt"
   ]
  },
  {
   "cell_type": "code",
   "execution_count": 215,
   "metadata": {},
   "outputs": [],
   "source": [
    "def distance(airport, city):\n",
    "    # need distance formula for airport to a city\n",
    "    return ((airport[0] - city[0])**2 + (airport[1] - city[1])**2)**0.5\n",
    "    \n",
    "\n",
    "def calcCitySets(airports, cities):\n",
    "    # list of size == len(airports)\n",
    "    # citySets = [[airportCities], [airport2Cities], [airport3Cities]]\n",
    "    citySets = []\n",
    "    for i in range(len(airports)):\n",
    "        citySets.append([])\n",
    "        \n",
    "    for city in cities:\n",
    "        closestAirportIndex = 0\n",
    "        smallestDist = distance(airports[0], city)\n",
    "        for i, airport in enumerate(airports[1:]):\n",
    "            curr = distance(airport, city)\n",
    "            if curr < smallestDist:\n",
    "                closestAirportIndex = i\n",
    "                smallestDist = curr\n",
    "            citySets[closestAirportIndex].append(city)\n",
    "    return citySets\n",
    "\n",
    "def objfunction(state, citySets):# state\n",
    "    aport = []\n",
    "    count = 0\n",
    "    x = 0\n",
    "    for airport in state:\n",
    "        aport.append(airport)\n",
    "        count += 1\n",
    "        if count == 2:\n",
    "            try:\n",
    "                for i, city in enumerate(citySets):\n",
    "                    x += (aport[0] - city[i][0])**2 + (aport[1] - city[i][1])**2\n",
    "            except:\n",
    "                break\n",
    "            count = 0\n",
    "            aport.clear()\n",
    "    return x\n",
    "\n",
    "def calc_grad(airports, citySets):\n",
    "    # grad = [df/dx1, df/y1, ...]\n",
    "    grad = [] * len(airports) * 2\n",
    "    dfdx1 = 2 * (x - x_c)\n",
    "    grad.append(dfdx1)\n",
    "    return grad\n",
    "\n",
    "# update current state until either (1) # of epochs or (2) % change within threshold\n",
    "\n",
    "def gradient_descent(airports, cities):\n",
    "    # flatten airports to 1-D\n",
    "    state = []\n",
    "    for pair in airports:\n",
    "        # append x coords\n",
    "        state.append(pair[0])\n",
    "        # append y coords\n",
    "        state.append(pair[1])\n",
    "    \n",
    "    maxEpochs = 20\n",
    "    delta =.0001\n",
    "    percentChange = 1\n",
    "\n",
    "    # list size 3, len(citySets) == 3\n",
    "    citySets = calcCitySets(airports, cities)\n",
    "    \n",
    "    objValues = []\n",
    "    objValues.append(objfunction(state, citySets))\n",
    "    numOfEpochs = 0\n",
    "    while numOfEpochs < maxEpochs:\n",
    "        while percentChange > delta:\n",
    "            # updating state:\n",
    "            # state: [x1, y1, x2, y2, x3, y3]\n",
    "            # calcGrad return: [df/dx1, df/y1,...]\n",
    "            \n",
    "            # compute Gradient\n",
    "            gradVector = calc_grad(airports, citySets)\n",
    "            # move state\n",
    "            alpha = .00000001\n",
    "            state = state - alpha * gradVector\n",
    "            \n",
    "            # cal new city sets\n",
    "            citySets = calcCitySets(airports, cities)\n",
    "\n",
    "            # store obj func value\n",
    "            objValues.append(objfunction(state, citySets))\n",
    "            \n",
    "            current = objValues[-1]\n",
    "            previous = objValues[-2]\n",
    "            percentChange = abs(previous - current/ objValues[-1])\n",
    "            \n",
    "            numOfEpochs += 1\n",
    "        \n",
    "    return state, objValues"
   ]
  },
  {
   "cell_type": "code",
   "execution_count": 216,
   "metadata": {},
   "outputs": [],
   "source": [
    "# plotting\n",
    "import matplotlib.pyplot as plt\n",
    "\n",
    "def plot(objValues):\n",
    "    x = range(len(objValues))\n",
    "    y = objValues\n",
    "    plt.scatter(x, y)\n",
    "    # plt.scatter(objValues)"
   ]
  },
  {
   "cell_type": "code",
   "execution_count": 217,
   "metadata": {},
   "outputs": [
    {
     "ename": "NameError",
     "evalue": "name 'x_c' is not defined",
     "output_type": "error",
     "traceback": [
      "\u001b[1;31m---------------------------------------------------------------------------\u001b[0m",
      "\u001b[1;31mNameError\u001b[0m                                 Traceback (most recent call last)",
      "\u001b[1;32m<ipython-input-217-2fc5208de2f0>\u001b[0m in \u001b[0;36m<module>\u001b[1;34m\u001b[0m\n\u001b[0;32m      6\u001b[0m \u001b[0mplt\u001b[0m\u001b[1;33m\u001b[0m\u001b[1;33m\u001b[0m\u001b[0m\n\u001b[0;32m      7\u001b[0m \u001b[1;33m\u001b[0m\u001b[0m\n\u001b[1;32m----> 8\u001b[1;33m \u001b[0mstates\u001b[0m\u001b[1;33m,\u001b[0m \u001b[0mobjValues\u001b[0m \u001b[1;33m=\u001b[0m \u001b[0mgradient_descent\u001b[0m\u001b[1;33m(\u001b[0m\u001b[0mairports\u001b[0m\u001b[1;33m,\u001b[0m \u001b[0mcities\u001b[0m\u001b[1;33m)\u001b[0m\u001b[1;33m\u001b[0m\u001b[1;33m\u001b[0m\u001b[0m\n\u001b[0m\u001b[0;32m      9\u001b[0m \u001b[1;33m\u001b[0m\u001b[0m\n\u001b[0;32m     10\u001b[0m \u001b[0mzip_cities\u001b[0m \u001b[1;33m=\u001b[0m \u001b[0mzip\u001b[0m\u001b[1;33m(\u001b[0m\u001b[1;33m*\u001b[0m\u001b[0mcities\u001b[0m\u001b[1;33m)\u001b[0m\u001b[1;33m\u001b[0m\u001b[1;33m\u001b[0m\u001b[0m\n",
      "\u001b[1;32m<ipython-input-215-11a1e2726f6b>\u001b[0m in \u001b[0;36mgradient_descent\u001b[1;34m(airports, cities)\u001b[0m\n\u001b[0;32m     74\u001b[0m \u001b[1;33m\u001b[0m\u001b[0m\n\u001b[0;32m     75\u001b[0m             \u001b[1;31m# compute Gradient\u001b[0m\u001b[1;33m\u001b[0m\u001b[1;33m\u001b[0m\u001b[1;33m\u001b[0m\u001b[0m\n\u001b[1;32m---> 76\u001b[1;33m             \u001b[0mgradVector\u001b[0m \u001b[1;33m=\u001b[0m \u001b[0mcalc_grad\u001b[0m\u001b[1;33m(\u001b[0m\u001b[0mairports\u001b[0m\u001b[1;33m,\u001b[0m \u001b[0mcitySets\u001b[0m\u001b[1;33m)\u001b[0m\u001b[1;33m\u001b[0m\u001b[1;33m\u001b[0m\u001b[0m\n\u001b[0m\u001b[0;32m     77\u001b[0m             \u001b[1;31m# move state\u001b[0m\u001b[1;33m\u001b[0m\u001b[1;33m\u001b[0m\u001b[1;33m\u001b[0m\u001b[0m\n\u001b[0;32m     78\u001b[0m             \u001b[0malpha\u001b[0m \u001b[1;33m=\u001b[0m \u001b[1;36m.00000001\u001b[0m\u001b[1;33m\u001b[0m\u001b[1;33m\u001b[0m\u001b[0m\n",
      "\u001b[1;32m<ipython-input-215-11a1e2726f6b>\u001b[0m in \u001b[0;36mcalc_grad\u001b[1;34m(airports, citySets)\u001b[0m\n\u001b[0;32m     42\u001b[0m     \u001b[1;31m# grad = [df/dx1, df/y1, ...]\u001b[0m\u001b[1;33m\u001b[0m\u001b[1;33m\u001b[0m\u001b[1;33m\u001b[0m\u001b[0m\n\u001b[0;32m     43\u001b[0m     \u001b[0mgrad\u001b[0m \u001b[1;33m=\u001b[0m \u001b[1;33m[\u001b[0m\u001b[1;33m]\u001b[0m \u001b[1;33m*\u001b[0m \u001b[0mlen\u001b[0m\u001b[1;33m(\u001b[0m\u001b[0mairports\u001b[0m\u001b[1;33m)\u001b[0m \u001b[1;33m*\u001b[0m \u001b[1;36m2\u001b[0m\u001b[1;33m\u001b[0m\u001b[1;33m\u001b[0m\u001b[0m\n\u001b[1;32m---> 44\u001b[1;33m     \u001b[0mdfdx1\u001b[0m \u001b[1;33m=\u001b[0m \u001b[1;36m2\u001b[0m \u001b[1;33m*\u001b[0m \u001b[1;33m(\u001b[0m\u001b[0mx\u001b[0m \u001b[1;33m-\u001b[0m \u001b[0mx_c\u001b[0m\u001b[1;33m)\u001b[0m\u001b[1;33m\u001b[0m\u001b[1;33m\u001b[0m\u001b[0m\n\u001b[0m\u001b[0;32m     45\u001b[0m     \u001b[0mgrad\u001b[0m\u001b[1;33m.\u001b[0m\u001b[0mappend\u001b[0m\u001b[1;33m(\u001b[0m\u001b[0mdfdx1\u001b[0m\u001b[1;33m)\u001b[0m\u001b[1;33m\u001b[0m\u001b[1;33m\u001b[0m\u001b[0m\n\u001b[0;32m     46\u001b[0m     \u001b[1;32mreturn\u001b[0m \u001b[0mgrad\u001b[0m\u001b[1;33m\u001b[0m\u001b[1;33m\u001b[0m\u001b[0m\n",
      "\u001b[1;31mNameError\u001b[0m: name 'x_c' is not defined"
     ]
    },
    {
     "data": {
      "image/png": "[encoded data removed]",
      "text/plain": [
       "<Figure size 432x288 with 1 Axes>"
      ]
     },
     "metadata": {
      "needs_background": "light"
     },
     "output_type": "display_data"
    }
   ],
   "source": [
    "zip_cities = zip(*cities)\n",
    "plt.scatter(*zip_cities, marker='+',color='b', label='Cities')\n",
    "zip_airs = zip(*airports)\n",
    "plt.scatter(*zip_airs, marker='*', color='r', s=100, label='Airports')\n",
    "plt.legend()\n",
    "plt\n",
    "\n",
    "states, objValues = gradient_descent(airports, cities)\n",
    "\n",
    "zip_cities = zip(*cities)\n",
    "plt.scatter(*zip_cities, marker='+',color='b', label='Cities')\n",
    "zip_airs = zip(*airports)\n",
    "plt.scatter(*zip_airs, marker='*', color='r', s=100, label='Airports')\n",
    "plt.legend()\n",
    "plt\n",
    "plot(objValues)\n"
   ]
  }
 ],
 "metadata": {
  "kernelspec": {
   "display_name": "Python 3",
   "language": "python",
   "name": "python3"
  },
  "language_info": {
   "codemirror_mode": {
    "name": "ipython",
    "version": 3
   },
   "file_extension": ".py",
   "mimetype": "text/x-python",
   "name": "python",
   "nbconvert_exporter": "python",
   "pygments_lexer": "ipython3",
   "version": "3.7.4"
  }
 },
 "nbformat": 4,
 "nbformat_minor": 2
}
