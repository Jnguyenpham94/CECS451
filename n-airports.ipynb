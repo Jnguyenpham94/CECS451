{
 "cells": [
  {
   "cell_type": "code",
   "execution_count": 56,
   "metadata": {},
   "outputs": [
    {
     "data": {
      "text/plain": [
       "<module 'matplotlib.pyplot' from 'C:\\\\Users\\\\nguye\\\\Anaconda3\\\\lib\\\\site-packages\\\\matplotlib\\\\pyplot.py'>"
      ]
     },
     "execution_count": 56,
     "metadata": {},
     "output_type": "execute_result"
    },
    {
     "data": {
      "image/png": "[encoded data removed]",
      "text/plain": [
       "<Figure size 432x288 with 1 Axes>"
      ]
     },
     "metadata": {
      "needs_background": "light"
     },
     "output_type": "display_data"
    }
   ],
   "source": [
    "import random\n",
    "import numpy as np\n",
    "\n",
    "num_city = 100\n",
    "num_air = 3\n",
    "num_center = 5\n",
    "sigma = 0.1\n",
    "cities = set()\n",
    "airports = []\n",
    "\n",
    "for i in range(num_center):\n",
    "    x = random.random()\n",
    "    y = random.random()\n",
    "    xc = np.random.normal(x, sigma, num_city//num_center)\n",
    "    yc = np.random.normal(y, sigma, num_city//num_center)\n",
    "    cities = cities.union(zip(xc, yc))\n",
    "\n",
    "\n",
    "for i in range(num_air):\n",
    "    x = random.random()\n",
    "    y = random.random()\n",
    "    airports.append((x,y)) \n",
    "\n",
    "import matplotlib.pyplot as plt\n",
    "\n",
    "zip_cities = zip(*cities)\n",
    "plt.scatter(*zip_cities, marker='+',color='b', label='Cities')\n",
    "zip_airs = zip(*airports)\n",
    "plt.scatter(*zip_airs, marker='*', color='r', s=100, label='Airports')\n",
    "plt.legend()\n",
    "plt"
   ]
  },
  {
   "cell_type": "code",
   "execution_count": 57,
   "metadata": {},
   "outputs": [],
   "source": [
    "def distance(airport, city):\n",
    "    # need distance formula for airport to a city\n",
    "    return ((airport[0] - city[0])**2 + (airport[1] - city[1])**2)**0.5\n",
    "    \n",
    "\n",
    "def calcCitySets(airports, cities):\n",
    "    # list of size == len(airports)\n",
    "    # citySets = [[airportCities], [airport2Cities], [airport3Cities]]\n",
    "    citySets = []\n",
    "    for i in range(len(airports)):\n",
    "        citySets.append([])\n",
    "        \n",
    "    for city in cities:\n",
    "        closestAirportIndex = 0\n",
    "        smallestDist = distance(airports[0], city)\n",
    "        for i, airport in enumerate(airports[1:]):\n",
    "            curr = distance(airport, city)\n",
    "            if curr < smallestDist:\n",
    "                closestAirportIndex = i\n",
    "                smallestDist = curr\n",
    "            citySets[closestAirportIndex].append(city)\n",
    "    return citySets\n",
    "\n",
    "def objfunction(state, citySets):# state\n",
    "    # print(state[0])\n",
    "    for airport in state:\n",
    "        for city in citySets:\n",
    "            print(city)\n",
    "            x = (airport[0] - city[0])**2 + (airport[1] - city[1])**2\n",
    "    return x\n",
    "\n",
    "def calc_grad(airports, citySets):\n",
    "    # grad = [df/dx1, df/y1, ...]\n",
    "    grad = [] * len(airports) * 2\n",
    "    dfdx1 = 2 * (x - x_c)\n",
    "    grad.append(dfdx1)\n",
    "    return grad\n",
    "\n",
    "# update current state until either (1) # of epochs or (2) % change within threshold\n",
    "\n",
    "def gradient_descent(airports, cities):\n",
    "    # flatten airports to 1-D\n",
    "    state = []\n",
    "    for pair in airports:\n",
    "        # append x coords\n",
    "        state.append(pair[0])\n",
    "        # append y coords\n",
    "        state.append(pair[1])\n",
    "    \n",
    "    maxEpochs = 20\n",
    "    delta =.0001\n",
    "    percentChange = 1\n",
    "\n",
    "    # list size 3, len(citySets) == 3\n",
    "    citySets = calcCitySets(airports, cities)\n",
    "    \n",
    "    objValues = []\n",
    "    objValues.append(objfunction(state, citySets))\n",
    "    numOfEpochs = 0\n",
    "    while numOfEpochs < maxEpochs:\n",
    "    # for i, airport in enumerate(airports):\n",
    "    #     citySets.append()\n",
    "        while percentChange > delta:\n",
    "            # updating state:\n",
    "            # state: [x1, y1, x2, y2, x3, y3]\n",
    "            # calcGrad return: [df/dx1, df/y1,...]\n",
    "            \n",
    "            # compute Gradient\n",
    "            gradVector = calc_grad(airports)\n",
    "            # move state\n",
    "            alpha = .00000001\n",
    "            state = state - alpha * gradVector\n",
    "            \n",
    "            # cal new city sets\n",
    "            citySets = calcCitySets(airports, cities)\n",
    "            print(state)\n",
    "            # store obj func value\n",
    "            objValues.append(objfunction(state, citySets))\n",
    "            \n",
    "            # airports = airports - delta * calc_grad(airports)\n",
    "            # objValues.append(objfunction(state))\n",
    "            \n",
    "            current = objValues[-1]\n",
    "            previous = objValues[-2]\n",
    "            percentChange = abs(previous - current/ objValues[-1])\n",
    "            \n",
    "            numOfEpochs += 1\n",
    "        \n",
    "    return state, objValues"
   ]
  },
  {
   "cell_type": "code",
   "execution_count": 58,
   "metadata": {},
   "outputs": [],
   "source": [
    "# plotting\n",
    "import matplotlib.pyplot as plt\n",
    "\n",
    "def plot(objValues):\n",
    "    plt.scatter(objValues)"
   ]
  },
  {
   "cell_type": "code",
   "execution_count": 59,
   "metadata": {},
   "outputs": [
    {
     "name": "stdout",
     "output_type": "stream",
     "text": [
      "[(0.06160645696519136, 1.1066387865418956), (0.06160645696519136, 1.1066387865418956), (1.0406187221011336, 0.7976103284682735), (1.0406187221011336, 0.7976103284682735), (0.21672920328888426, 0.3984717787681955), (0.15739886260026795, 0.9935400113928786), (0.15739886260026795, 0.9935400113928786), (0.22061412820859075, 0.9689980775453261), (0.22061412820859075, 0.9689980775453261), (0.22126667464188102, 0.7240478842642675), (0.6716278831393218, 0.8642148421499662), (0.6716278831393218, 0.8642148421499662), (0.8225398454547463, 0.6216056078663519), (0.055260645885106194, 0.9907201263618075), (0.055260645885106194, 0.9907201263618075), (0.6063715764135419, 0.9308949047363551), (0.6063715764135419, 0.9308949047363551), (0.2517048621843816, 0.90893133436665), (0.2517048621843816, 0.90893133436665), (0.5387650644693791, 0.7979406712800632), (0.5387650644693791, 0.7979406712800632), (0.82530679061848, 0.794375234774454), (0.82530679061848, 0.794375234774454), (0.9180311345960277, 0.7146137572141954), (0.9180311345960277, 0.7146137572141954), (0.36608257716277726, 0.9786807759568564), (0.36608257716277726, 0.9786807759568564), (0.28114699019814576, 0.9160891314818018), (0.28114699019814576, 0.9160891314818018), (0.42623503520267997, 0.6676966411433487), (0.5491941325681305, 0.49201993848046416), (0.4195643929001121, 0.6860844295252085), (0.40718092170374903, 0.44346179637837746), (0.4537492138200408, 0.3543617609678843), (0.41514911074658434, 0.44318430323627217), (0.4725913793434533, 0.33020450798263884), (0.5439051314978808, 0.8816572979543398), (0.5439051314978808, 0.8816572979543398), (0.4812609827733683, 0.6499753519295026), (0.8232377676085094, 0.8835444549161544), (0.8232377676085094, 0.8835444549161544), (0.7474887813266531, 0.76154868645281), (0.7474887813266531, 0.76154868645281), (1.0540053068290198, 0.6906577711857179), (1.0540053068290198, 0.6906577711857179), (0.7317760660889061, 0.7838377699857809), (0.7317760660889061, 0.7838377699857809), (0.9134979084957768, 0.8619341704686786), (0.9134979084957768, 0.8619341704686786), (0.1924262027486533, 0.8516568863738103), (0.1924262027486533, 0.8516568863738103), (0.22609872486000154, 0.8539541113713305), (0.22609872486000154, 0.8539541113713305), (0.7954739413097629, 0.7527600517503696), (0.7954739413097629, 0.7527600517503696), (0.18878021053587324, 0.8482692726566122), (0.18878021053587324, 0.8482692726566122), (0.4756774693336323, 1.0012729265799303), (0.4756774693336323, 1.0012729265799303), (0.6654326620682619, 1.037821297505447), (0.6654326620682619, 1.037821297505447), (0.5438007851208527, 1.0252009285416297), (0.5438007851208527, 1.0252009285416297), (0.2587230773586856, 1.0837913686392473), (0.2587230773586856, 1.0837913686392473), (0.14803728098333324, 1.0597597587455667), (0.14803728098333324, 1.0597597587455667), (0.06579394166135262, 0.9759272752818309), (0.06579394166135262, 0.9759272752818309), (0.275416847418231, 0.9232268113509797), (0.275416847418231, 0.9232268113509797), (0.05780710954000684, 0.8614000913104898), (0.05780710954000684, 0.8614000913104898), (0.8341157196152167, 0.7883365011305474), (0.8341157196152167, 0.7883365011305474), (0.8544518481935575, 0.7387375303142055), (0.8544518481935575, 0.7387375303142055), (0.9802797765380712, 0.701325771660594), (0.9802797765380712, 0.701325771660594), (0.5450842643982756, 0.8868281629950862), (0.5450842643982756, 0.8868281629950862), (0.46225158546475653, 0.8129613645940044), (0.46225158546475653, 0.8129613645940044), (0.49577734321923883, 0.7197449415344348), (0.4506795516170263, 0.6499394582051791), (0.3895196445292495, 0.542430198069415), (0.6740609348810694, 0.9442707398277104), (0.6740609348810694, 0.9442707398277104), (0.2829678572403845, 0.826900188232147), (0.2829678572403845, 0.826900188232147), (0.6961527662393717, 0.7724066529923669), (0.6961527662393717, 0.7724066529923669), (0.6752612096478081, 0.6482175339373789), (0.8178822495098068, 0.784901635146577), (0.8178822495098068, 0.784901635146577), (0.5368207906220166, 0.6975941861794152), (0.34869593597929205, 0.5845960881698458), (0.8120180114550193, 0.5943748867125996), (0.4151101420995209, 0.5244997288582126), (0.637382627593939, 0.7487731045984829), (0.637382627593939, 0.7487731045984829), (0.6789503508277285, 0.8747994785544341), (0.6789503508277285, 0.8747994785544341), (0.9033548767826144, 0.6564757835654481), (0.6263708518490801, 0.7595095218954042), (0.6263708518490801, 0.7595095218954042), (0.6869469696995897, 0.9054143280589941), (0.6869469696995897, 0.9054143280589941), (0.9468822690964405, 0.6906715351031752), (0.9468822690964405, 0.6906715351031752), (0.7471304085457462, 0.6131481946175983), (0.8561713148732378, 0.5316670271592752), (0.8561713148732378, 0.5316670271592752), (0.3405551490372315, 0.49735343122619013), (0.582373816768497, 0.6127896655206383), (0.5533454372695472, 0.8550820647678798), (0.5533454372695472, 0.8550820647678798), (0.33631287098158413, 0.5832011493526267), (0.27484711423279284, 0.4032805758812713), (0.3962775982538864, 0.9834710035162954), (0.3962775982538864, 0.9834710035162954), (0.6108647347566205, 0.8342092619281032), (0.6108647347566205, 0.8342092619281032), (0.4621033861127509, 0.4833780025480368), (0.9244473638362122, 0.7844670820249772), (0.9244473638362122, 0.7844670820249772), (0.9000231918034127, 0.7263704049512134), (0.9000231918034127, 0.7263704049512134), (0.6019183721549851, 0.8316201651896761), (0.6019183721549851, 0.8316201651896761), (0.5082935351410366, 0.908976686711496), (0.5082935351410366, 0.908976686711496), (0.27828190245918255, 0.8471829030750668), (0.27828190245918255, 0.8471829030750668), (1.0201931665445205, 0.7693139570832153), (1.0201931665445205, 0.7693139570832153), (1.0551175538125754, 0.8268775714442216), (1.0551175538125754, 0.8268775714442216), (1.029262098846364, 0.9252451801383774), (1.029262098846364, 0.9252451801383774), (1.0397233274079627, 0.9580584318374177), (1.0397233274079627, 0.9580584318374177), (1.0037013443970237, 0.7298647116867814), (1.0037013443970237, 0.7298647116867814), (1.145540152337172, 0.8270151813316411), (1.145540152337172, 0.8270151813316411), (0.4982011521252676, 0.7172626781346245), (0.8682628095952586, 0.6762133528539175), (1.0105201807334192, 0.704699752957288), (1.0105201807334192, 0.704699752957288), (1.0656105770413307, 0.8006661528463758), (1.0656105770413307, 0.8006661528463758), (1.0885210663433467, 0.8306837856739978), (1.0885210663433467, 0.8306837856739978), (0.4439553708622607, 0.4811879943864475), (0.6581946690428474, 0.8149640439908834), (0.6581946690428474, 0.8149640439908834), (0.5960102599620924, 0.5675017537513325), (0.5527288573809928, 0.4607842798895315), (0.24758877430916154, 1.0450444797994132), (0.24758877430916154, 1.0450444797994132), (0.043826925454969856, 0.9052217544632063), (0.043826925454969856, 0.9052217544632063), (0.8776760535220596, 0.8257863796117006), (0.8776760535220596, 0.8257863796117006), (0.2109416902271084, 0.931035341062157), (0.2109416902271084, 0.931035341062157), (0.6456487390421757, 0.7811682999476994), (0.6456487390421757, 0.7811682999476994)]\n"
     ]
    },
    {
     "ename": "TypeError",
     "evalue": "'float' object is not subscriptable",
     "output_type": "error",
     "traceback": [
      "\u001b[1;31m---------------------------------------------------------------------------\u001b[0m",
      "\u001b[1;31mTypeError\u001b[0m                                 Traceback (most recent call last)",
      "\u001b[1;32m<ipython-input-59-bd83b6002803>\u001b[0m in \u001b[0;36m<module>\u001b[1;34m\u001b[0m\n\u001b[0;32m      6\u001b[0m \u001b[0mplt\u001b[0m\u001b[1;33m\u001b[0m\u001b[1;33m\u001b[0m\u001b[0m\n\u001b[0;32m      7\u001b[0m \u001b[1;33m\u001b[0m\u001b[0m\n\u001b[1;32m----> 8\u001b[1;33m \u001b[0mstates\u001b[0m\u001b[1;33m,\u001b[0m \u001b[0mobjValues\u001b[0m \u001b[1;33m=\u001b[0m \u001b[0mgradient_descent\u001b[0m\u001b[1;33m(\u001b[0m\u001b[0mairports\u001b[0m\u001b[1;33m,\u001b[0m \u001b[0mcities\u001b[0m\u001b[1;33m)\u001b[0m\u001b[1;33m\u001b[0m\u001b[1;33m\u001b[0m\u001b[0m\n\u001b[0m\u001b[0;32m      9\u001b[0m \u001b[1;33m\u001b[0m\u001b[0m\n\u001b[0;32m     10\u001b[0m \u001b[0mzip_cities\u001b[0m \u001b[1;33m=\u001b[0m \u001b[0mzip\u001b[0m\u001b[1;33m(\u001b[0m\u001b[1;33m*\u001b[0m\u001b[0mcities\u001b[0m\u001b[1;33m)\u001b[0m\u001b[1;33m\u001b[0m\u001b[1;33m\u001b[0m\u001b[0m\n",
      "\u001b[1;32m<ipython-input-57-85834186ee2a>\u001b[0m in \u001b[0;36mgradient_descent\u001b[1;34m(airports, cities)\u001b[0m\n\u001b[0;32m     55\u001b[0m \u001b[1;33m\u001b[0m\u001b[0m\n\u001b[0;32m     56\u001b[0m     \u001b[0mobjValues\u001b[0m \u001b[1;33m=\u001b[0m \u001b[1;33m[\u001b[0m\u001b[1;33m]\u001b[0m\u001b[1;33m\u001b[0m\u001b[1;33m\u001b[0m\u001b[0m\n\u001b[1;32m---> 57\u001b[1;33m     \u001b[0mobjValues\u001b[0m\u001b[1;33m.\u001b[0m\u001b[0mappend\u001b[0m\u001b[1;33m(\u001b[0m\u001b[0mobjfunction\u001b[0m\u001b[1;33m(\u001b[0m\u001b[0mstate\u001b[0m\u001b[1;33m,\u001b[0m \u001b[0mcitySets\u001b[0m\u001b[1;33m)\u001b[0m\u001b[1;33m)\u001b[0m\u001b[1;33m\u001b[0m\u001b[1;33m\u001b[0m\u001b[0m\n\u001b[0m\u001b[0;32m     58\u001b[0m     \u001b[0mnumOfEpochs\u001b[0m \u001b[1;33m=\u001b[0m \u001b[1;36m0\u001b[0m\u001b[1;33m\u001b[0m\u001b[1;33m\u001b[0m\u001b[0m\n\u001b[0;32m     59\u001b[0m     \u001b[1;32mwhile\u001b[0m \u001b[0mnumOfEpochs\u001b[0m \u001b[1;33m<\u001b[0m \u001b[0mmaxEpochs\u001b[0m\u001b[1;33m:\u001b[0m\u001b[1;33m\u001b[0m\u001b[1;33m\u001b[0m\u001b[0m\n",
      "\u001b[1;32m<ipython-input-57-85834186ee2a>\u001b[0m in \u001b[0;36mobjfunction\u001b[1;34m(state, citySets)\u001b[0m\n\u001b[0;32m     27\u001b[0m         \u001b[1;32mfor\u001b[0m \u001b[0mcity\u001b[0m \u001b[1;32min\u001b[0m \u001b[0mcitySets\u001b[0m\u001b[1;33m:\u001b[0m\u001b[1;33m\u001b[0m\u001b[1;33m\u001b[0m\u001b[0m\n\u001b[0;32m     28\u001b[0m             \u001b[0mprint\u001b[0m\u001b[1;33m(\u001b[0m\u001b[0mcity\u001b[0m\u001b[1;33m)\u001b[0m\u001b[1;33m\u001b[0m\u001b[1;33m\u001b[0m\u001b[0m\n\u001b[1;32m---> 29\u001b[1;33m             \u001b[0mx\u001b[0m \u001b[1;33m=\u001b[0m \u001b[1;33m(\u001b[0m\u001b[0mairport\u001b[0m\u001b[1;33m[\u001b[0m\u001b[1;36m0\u001b[0m\u001b[1;33m]\u001b[0m \u001b[1;33m-\u001b[0m \u001b[0mcity\u001b[0m\u001b[1;33m[\u001b[0m\u001b[1;36m0\u001b[0m\u001b[1;33m]\u001b[0m\u001b[1;33m)\u001b[0m\u001b[1;33m**\u001b[0m\u001b[1;36m2\u001b[0m \u001b[1;33m+\u001b[0m \u001b[1;33m(\u001b[0m\u001b[0mairport\u001b[0m\u001b[1;33m[\u001b[0m\u001b[1;36m1\u001b[0m\u001b[1;33m]\u001b[0m \u001b[1;33m-\u001b[0m \u001b[0mcity\u001b[0m\u001b[1;33m[\u001b[0m\u001b[1;36m1\u001b[0m\u001b[1;33m]\u001b[0m\u001b[1;33m)\u001b[0m\u001b[1;33m**\u001b[0m\u001b[1;36m2\u001b[0m\u001b[1;33m\u001b[0m\u001b[1;33m\u001b[0m\u001b[0m\n\u001b[0m\u001b[0;32m     30\u001b[0m     \u001b[1;32mreturn\u001b[0m \u001b[0mx\u001b[0m\u001b[1;33m\u001b[0m\u001b[1;33m\u001b[0m\u001b[0m\n\u001b[0;32m     31\u001b[0m \u001b[1;33m\u001b[0m\u001b[0m\n",
      "\u001b[1;31mTypeError\u001b[0m: 'float' object is not subscriptable"
     ]
    },
    {
     "data": {
      "image/png": "[encoded data removed]",
      "text/plain": [
       "<Figure size 432x288 with 1 Axes>"
      ]
     },
     "metadata": {
      "needs_background": "light"
     },
     "output_type": "display_data"
    }
   ],
   "source": [
    "zip_cities = zip(*cities)\n",
    "plt.scatter(*zip_cities, marker='+',color='b', label='Cities')\n",
    "zip_airs = zip(*airports)\n",
    "plt.scatter(*zip_airs, marker='*', color='r', s=100, label='Airports')\n",
    "plt.legend()\n",
    "plt\n",
    "\n",
    "states, objValues = gradient_descent(airports, cities)\n",
    "\n",
    "zip_cities = zip(*cities)\n",
    "plt.scatter(*zip_cities, marker='+',color='b', label='Cities')\n",
    "zip_airs = zip(*airports)\n",
    "plt.scatter(*zip_airs, marker='*', color='r', s=100, label='Airports')\n",
    "plt.legend()\n",
    "plt\n"
   ]
  }
 ],
 "metadata": {
  "kernelspec": {
   "display_name": "Python 3",
   "language": "python",
   "name": "python3"
  },
  "language_info": {
   "codemirror_mode": {
    "name": "ipython",
    "version": 3
   },
   "file_extension": ".py",
   "mimetype": "text/x-python",
   "name": "python",
   "nbconvert_exporter": "python",
   "pygments_lexer": "ipython3",
   "version": "3.7.4"
  }
 },
 "nbformat": 4,
 "nbformat_minor": 2
}
