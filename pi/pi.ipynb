{
 "cells": [
  {
   "cell_type": "code",
   "execution_count": 204,
   "metadata": {},
   "outputs": [],
   "source": [
    "import random\n",
    "import math\n",
    "import matplotlib.pyplot as plt\n",
    "\n",
    "def estimate_pi(num):\n",
    "    n = num\n",
    "    xblue = []\n",
    "    yblue = []\n",
    "    yred = []\n",
    "    xred = []\n",
    "    myPi = 0\n",
    "    error = 0\n",
    "    d = 0\n",
    "    x = 0\n",
    "    y = 0\n",
    "    r = 1\n",
    "    for j in range(n):\n",
    "        x = random.random()\n",
    "        y = random.random()\n",
    "        # print(\"x:\" + str(x))\n",
    "        # print(\"y:\" + str(y))\n",
    "        d = (x**2 + y**2)**0.5\n",
    "        if(d < r ): #if d < r = 1 for blue circle\n",
    "            xblue.append(x)\n",
    "            yblue.append(y)\n",
    "        else: #else for red square\n",
    "            xred.append(x)\n",
    "            yred.append(y)\n",
    "    myPi = 4 * (len(xblue)/ n)\n",
    "    error = abs((math.pi - myPi)/math.pi) * 100\n",
    "\n",
    "    \n",
    "    return myPi, error, xblue, yblue, xred, yred\n"
   ]
  },
  {
   "cell_type": "code",
   "execution_count": 205,
   "metadata": {},
   "outputs": [],
   "source": [
    "# call for plotting\n",
    "def plot_pi(xblue, yblue, xred, yred):\n",
    "    plt.scatter(xblue, yblue, 0.5, c=\"b\", marker=\".\")\n",
    "    plt.scatter(xred, yred, 0.5, c=\"r\", marker=\".\")"
   ]
  },
  {
   "cell_type": "code",
   "execution_count": 206,
   "metadata": {},
   "outputs": [
    {
     "ename": "ValueError",
     "evalue": "Format specifier missing precision",
     "output_type": "error",
     "traceback": [
      "\u001b[1;31m---------------------------------------------------------------------------\u001b[0m",
      "\u001b[1;31mValueError\u001b[0m                                Traceback (most recent call last)",
      "\u001b[1;32m<ipython-input-206-9f5f3926213a>\u001b[0m in \u001b[0;36m<module>\u001b[1;34m\u001b[0m\n\u001b[0;32m      1\u001b[0m \u001b[1;31m# driver\u001b[0m\u001b[1;33m\u001b[0m\u001b[1;33m\u001b[0m\u001b[1;33m\u001b[0m\u001b[0m\n\u001b[0;32m      2\u001b[0m \u001b[0mmyPi\u001b[0m\u001b[1;33m,\u001b[0m \u001b[0merror\u001b[0m\u001b[1;33m,\u001b[0m \u001b[0mxb\u001b[0m\u001b[1;33m,\u001b[0m \u001b[0myb\u001b[0m\u001b[1;33m,\u001b[0m \u001b[0mxr\u001b[0m\u001b[1;33m,\u001b[0m \u001b[0myr\u001b[0m \u001b[1;33m=\u001b[0m \u001b[0mestimate_pi\u001b[0m\u001b[1;33m(\u001b[0m\u001b[1;36m10\u001b[0m\u001b[1;33m**\u001b[0m\u001b[1;36m3\u001b[0m\u001b[1;33m)\u001b[0m\u001b[1;33m\u001b[0m\u001b[1;33m\u001b[0m\u001b[0m\n\u001b[1;32m----> 3\u001b[1;33m \u001b[0mprint\u001b[0m\u001b[1;33m(\u001b[0m\u001b[1;34mf\"n = 10^3 pi = {myPi:.nf} error = {error:.nf} %\"\u001b[0m\u001b[1;33m)\u001b[0m\u001b[1;33m\u001b[0m\u001b[1;33m\u001b[0m\u001b[0m\n\u001b[0m\u001b[0;32m      4\u001b[0m \u001b[1;33m\u001b[0m\u001b[0m\n\u001b[0;32m      5\u001b[0m \u001b[0mmyPi\u001b[0m\u001b[1;33m,\u001b[0m \u001b[0merror\u001b[0m\u001b[1;33m,\u001b[0m \u001b[0mxb\u001b[0m\u001b[1;33m,\u001b[0m \u001b[0myb\u001b[0m\u001b[1;33m,\u001b[0m \u001b[0mxr\u001b[0m\u001b[1;33m,\u001b[0m \u001b[0myr\u001b[0m \u001b[1;33m=\u001b[0m \u001b[0mestimate_pi\u001b[0m\u001b[1;33m(\u001b[0m\u001b[1;36m10\u001b[0m\u001b[1;33m**\u001b[0m\u001b[1;36m4\u001b[0m\u001b[1;33m)\u001b[0m\u001b[1;33m\u001b[0m\u001b[1;33m\u001b[0m\u001b[0m\n",
      "\u001b[1;31mValueError\u001b[0m: Format specifier missing precision"
     ]
    }
   ],
   "source": [
    "# driver\n",
    "myPi, error, xb, yb, xr, yr = estimate_pi(10**3)\n",
    "print(f\"n = 10^3 pi = {myPi:.6f} error = {error:.4f} %\")\n",
    "\n",
    "myPi, error, xb, yb, xr, yr = estimate_pi(10**4)\n",
    "print(f\"n = 10^4 pi = {myPi:.6f} error = {error:.4f} %\")\n",
    "plot_pi(xb, yb, xr, yr)\n",
    "\n",
    "myPi, error, xb, yb, xr, yr = estimate_pi(10**5,)\n",
    "print(f\"n = 10^5 pi = {myPi:.6f} error = {error:.4f} %\")\n",
    "\n",
    "myPi, error, xb, yb, xr, yr = estimate_pi(10**6)\n",
    "print(f\"n = 10^6 pi = {myPi:.6f} error = {error:.4f} %\")"
   ]
  }
 ],
 "metadata": {
  "interpreter": {
   "hash": "69251a949eb3dae48a5660fd5f9bc90f8709a7d30678464b55379986c6c980dc"
  },
  "kernelspec": {
   "display_name": "Python 3.7.4 ('base')",
   "language": "python",
   "name": "python3"
  },
  "language_info": {
   "codemirror_mode": {
    "name": "ipython",
    "version": 3
   },
   "file_extension": ".py",
   "mimetype": "text/x-python",
   "name": "python",
   "nbconvert_exporter": "python",
   "pygments_lexer": "ipython3",
   "version": "3.7.4"
  },
  "orig_nbformat": 4
 },
 "nbformat": 4,
 "nbformat_minor": 2
}
