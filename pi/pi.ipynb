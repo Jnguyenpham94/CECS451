{
 "cells": [
  {
   "cell_type": "code",
   "execution_count": 106,
   "metadata": {},
   "outputs": [
    {
     "name": "stdout",
     "output_type": "stream",
     "text": [
      "[1.578583191971918, 9.715051569828976, 11.16145169264811, 11.08900436255269]\n",
      "0.049592653589793034\n",
      "n = 10^3 pi = 3.092000 error = 1.5786 % \n",
      "n = 10^4 pi = 3.446800 error = 9.7151 % \n",
      "n = 10^5 pi = 3.492240 error = 11.1615 % \n",
      "n = 10^6 pi = 3.489964 error = 11.0890 % \n"
     ]
    }
   ],
   "source": [
    "import random\n",
    "import math\n",
    "import matplotlib.pyplot as plt\n",
    "\n",
    "n = [10**3, 10**4, 10**5, 10**6]\n",
    "xblue = []\n",
    "yblue = []\n",
    "yred = []\n",
    "xred = []\n",
    "myPi = [0,0,0,0]\n",
    "error = []\n",
    "d = 0\n",
    "x = 0\n",
    "y = 0\n",
    "r = 1\n",
    "for i in range(len(n)):\n",
    "    for j in range(n[i]):\n",
    "        x = random.random()\n",
    "        y = random.random()\n",
    "        # print(\"x:\" + str(x))\n",
    "        # print(\"y:\" + str(y))\n",
    "        d = (x**2 + y**2)**0.5\n",
    "        if(d < r ): #if d < r = 1 for blue circle\n",
    "            xblue.append(x)\n",
    "            yblue.append(y)\n",
    "        else: #else for red square\n",
    "            xred.append(x)\n",
    "            yred.append(y)\n",
    "    myPi[i] = 4 * (len(xblue)/ n[i])\n",
    "    error.append(abs((math.pi - myPi[i])/math.pi) * 100)\n",
    "\n",
    "print(n)\n",
    "print(error)\n",
    "print(math.pi - myPi[0])\n",
    "\n",
    "# error.append(abs((math.pi - myPi[1])/ math.pi) * 100)\n",
    "# error.append(abs((math.pi - myPi[2])/ math.pi) * 100)\n",
    "# error.append(abs((math.pi - myPi[3])/ math.pi) * 100)\n",
    "\n",
    "print(f\"n = 10^3 pi = {myPi[0]:.6f} error = {error[0]:.4f} % \")\n",
    "print(f\"n = 10^4 pi = {myPi[1]:.6f} error = {error[1]:.4f} % \")\n",
    "print(f\"n = 10^5 pi = {myPi[2]:.6f} error = {error[2]:.4f} % \")\n",
    "print(f\"n = 10^6 pi = {myPi[3]:.6f} error = {error[3]:.4f} % \")"
   ]
  },
  {
   "cell_type": "code",
   "execution_count": 100,
   "metadata": {},
   "outputs": [
    {
     "data": {
      "image/png": "[encoded data removed]",
      "text/plain": [
       "<Figure size 432x288 with 1 Axes>"
      ]
     },
     "metadata": {
      "needs_background": "light"
     },
     "output_type": "display_data"
    }
   ],
   "source": [
    "def plot_fig(x, y):\n",
    "    fig = plt.figure()\n",
    "    ax = fig.add_subplot(111)\n",
    "    plt.scatter(xblue, yblue, 0.5, c=\"b\", marker=\".\")\n",
    "    plt.scatter(xred, yred, 0.5, c=\"r\", marker=\".\")\n",
    "    ax.set_aspect(\"equal\")\n",
    "    plt.show()"
   ]
  },
  {
   "cell_type": "code",
   "execution_count": null,
   "metadata": {},
   "outputs": [],
   "source": [
    "# driver\n"
   ]
  }
 ],
 "metadata": {
  "interpreter": {
   "hash": "69251a949eb3dae48a5660fd5f9bc90f8709a7d30678464b55379986c6c980dc"
  },
  "kernelspec": {
   "display_name": "Python 3.7.4 ('base')",
   "language": "python",
   "name": "python3"
  },
  "language_info": {
   "codemirror_mode": {
    "name": "ipython",
    "version": 3
   },
   "file_extension": ".py",
   "mimetype": "text/x-python",
   "name": "python",
   "nbconvert_exporter": "python",
   "pygments_lexer": "ipython3",
   "version": "3.7.4"
  },
  "orig_nbformat": 4
 },
 "nbformat": 4,
 "nbformat_minor": 2
}
