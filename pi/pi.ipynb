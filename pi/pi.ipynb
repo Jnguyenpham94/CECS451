{
 "cells": [
  {
   "cell_type": "code",
   "execution_count": 18,
   "metadata": {},
   "outputs": [
    {
     "name": "stdout",
     "output_type": "stream",
     "text": [
      "x:0.8930473157279674\n",
      "y:0.4509011562451366\n",
      "x:0.23119173194742582\n",
      "y:0.8945016830334449\n",
      "[0.8930473157279674]\n"
     ]
    }
   ],
   "source": [
    "import random\n",
    "import math\n",
    "import matplotlib\n",
    "\n",
    "n = [10**3, 10**4, 10**5, 10**6]\n",
    "xblue = []\n",
    "yblue = []\n",
    "yred = []\n",
    "xred = []\n",
    "d = 0\n",
    "x = 0\n",
    "y = 0\n",
    "r = 1\n",
    "for i in range(10):\n",
    "    # print(f\"value: {(ran):.2f}\")\n",
    "    x = random.random()\n",
    "    y = random.random()\n",
    "    print(\"x:\" + str(x))\n",
    "    print(\"y:\" + str(y))\n",
    "    d = (x**2 + y**2)**0.5\n",
    "    if(d < r ): #if for blue circle\n",
    "        xblue.append(x)\n",
    "        yblue.append(y)\n",
    "    else: #if for red square\n",
    "        xred.append(x)\n",
    "        yred.append(y)\n",
    "\n",
    "print(xred)\n",
    "\n",
    "myPi = [0,0,0,0]\n",
    "error = []\n",
    "error.append(abs((math.pi - myPi[0])/ math.pi) * 100)\n",
    "error.append(abs((math.pi - myPi[1])/ math.pi) * 100)\n",
    "error.append(abs((math.pi - myPi[2])/ math.pi) * 100)\n",
    "error.append(abs((math.pi - myPi[3])/ math.pi) * 100)\n",
    "# print(f\"n = 10^3 pi = {myPi[0]:.6f} error = {error[0]:.4f} % \")\n",
    "# print(f\"n = 10^3 pi = {myPi[1]:.6f} error = {error[1]:.4f} % \")\n",
    "# print(f\"n = 10^3 pi = {myPi[2]:.6f} error = {error[2]:.4f} % \")\n",
    "# print(f\"n = 10^3 pi = {myPi[3]:.6f} error = {error[3]:.4f} % \")"
   ]
  }
 ],
 "metadata": {
  "interpreter": {
   "hash": "69251a949eb3dae48a5660fd5f9bc90f8709a7d30678464b55379986c6c980dc"
  },
  "kernelspec": {
   "display_name": "Python 3.7.4 ('base')",
   "language": "python",
   "name": "python3"
  },
  "language_info": {
   "codemirror_mode": {
    "name": "ipython",
    "version": 3
   },
   "file_extension": ".py",
   "mimetype": "text/x-python",
   "name": "python",
   "nbconvert_exporter": "python",
   "pygments_lexer": "ipython3",
   "version": "3.7.4"
  },
  "orig_nbformat": 4
 },
 "nbformat": 4,
 "nbformat_minor": 2
}
